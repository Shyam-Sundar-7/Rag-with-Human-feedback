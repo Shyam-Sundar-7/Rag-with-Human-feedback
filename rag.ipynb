{
 "cells": [
  {
   "cell_type": "code",
   "execution_count": 8,
   "metadata": {},
   "outputs": [],
   "source": [
    "from dotenv import load_dotenv\n",
    "\n",
    "load_dotenv()\n",
    "\n",
    "from langchain_community.document_loaders import PyPDFLoader\n",
    "\n",
    "loader = PyPDFLoader(\"Natu Lauchande - Machine Learning Engineering with MLflow_ Manage the end-to-end machine learning life cycle with MLflow (2021, Packt Publishing) - libgen.li.pdf\")\n",
    "pages = loader.load_and_split()"
   ]
  },
  {
   "cell_type": "code",
   "execution_count": 9,
   "metadata": {},
   "outputs": [
    {
     "data": {
      "text/plain": [
       "233"
      ]
     },
     "execution_count": 9,
     "metadata": {},
     "output_type": "execute_result"
    }
   ],
   "source": [
    "len(pages)"
   ]
  },
  {
   "cell_type": "code",
   "execution_count": 10,
   "metadata": {},
   "outputs": [
    {
     "name": "stdout",
     "output_type": "stream",
     "text": [
      "240: 224     \n",
      "Packt is searching for authors like you\n",
      "If you're interested in becoming an author for Packt, please visit authors.\n",
      "packtpub.com  and apply today. We have worked with thousands of developers and \n",
      "tech professionals, just like you, to help them share their insight with the global tech \n",
      "commu\n",
      "\n",
      "\n",
      "\n",
      "190: 174     Scaling Up Y our Machine Learning Workflow\n",
      "You  c an  see an overview of the cluster-creation process in the following screenshot:\n",
      "Figure 10.2 – Creating a cluster in Databricks Community Edition\n",
      "6. Create a new notebook in your Databricks platform on your landing workspace \n",
      "page by clicking\n",
      "\n",
      "\n",
      "\n",
      "121: 6\n",
      "Introducing \n",
      "ML Systems \n",
      "Architecture\n",
      "In this chapter, you will learn about general principles of Machine Learning (ML) systems \n",
      "architecture in the broader context of Software Engineering (SWE) and common issues \n",
      "with deploying models in production in a reliable way. Y ou will also have the oppor\n",
      "\n",
      "\n",
      "\n",
      "59: 3\n",
      "Your Data Science \n",
      "Workbench\n",
      "In this chapter, you will learn about MLflow in the context of creating a local environment \n",
      "so that you can develop your machine learning project locally with the different features \n",
      "provided by MLflow. This chapter is focused on machine learning engineering, and one \n",
      "\n",
      "\n",
      "\n",
      "131: Architecting the PsyStock ML platform     115\n",
      "• Model management: Not a specific tool for managing models but tools such as \n",
      "MLflow can be added to cover the model management life cycle.\n",
      "• Workflow management: Workflow management is leveraged through a specific \n",
      "tool called Kubeflow Pipelines built \n",
      "\n",
      "\n",
      "\n"
     ]
    }
   ],
   "source": [
    "from langchain_community.vectorstores import FAISS\n",
    "from langchain_openai import OpenAIEmbeddings\n",
    "\n",
    "Faiss_retriever = FAISS.from_documents(pages, OpenAIEmbeddings())\n",
    "Faiss_retriever=Faiss_retriever.as_retriever(search_kwargs={\"k\": 5})\n",
    "docs = Faiss_retriever.invoke(\"How will the community be engaged?\")\n",
    "for doc in docs:\n",
    "    print(str(doc.metadata[\"page\"]) + \":\", doc.page_content[:300])\n",
    "    print(\"\\n\\n\")"
   ]
  },
  {
   "cell_type": "code",
   "execution_count": 11,
   "metadata": {},
   "outputs": [
    {
     "data": {
      "text/plain": [
       "5"
      ]
     },
     "execution_count": 11,
     "metadata": {},
     "output_type": "execute_result"
    }
   ],
   "source": [
    "len(docs)"
   ]
  },
  {
   "cell_type": "code",
   "execution_count": 12,
   "metadata": {},
   "outputs": [],
   "source": [
    "from langchain_community.retrievers import BM25Retriever\n",
    "Bm25_retriever=BM25Retriever.from_documents(pages)\n",
    "Bm25_retriever.k=5\n",
    "bmdocs=Bm25_retriever.invoke(\"How will the community be engaged?\")"
   ]
  },
  {
   "cell_type": "code",
   "execution_count": 13,
   "metadata": {},
   "outputs": [
    {
     "name": "stdout",
     "output_type": "stream",
     "text": [
      "134: 118     Introducing ML Systems Architecture\n",
      "5. Model management: Encapsulated by the component of Model Registry , which \n",
      "contains a store and the associated life cycles projects. The input comes primarily \n",
      "from the training jobs and the data science workbench.\n",
      "6. Workflow management: This is a comp\n",
      "\n",
      "\n",
      "\n",
      "15: Preface     xv\n",
      "Get in touch\n",
      "Feedback from our readers is always welcome.\n",
      "General feedback: If you have questions about any aspect of this book, email us at \n",
      "customercare@packtpub.com and mention the book title in the subject of your message.\n",
      "Errata: Although we have taken every care to ensure the ac\n",
      "\n",
      "\n",
      "\n",
      "110: 94     Managing Models with MLflow\n",
      "In the previous code block, the signature of the model is provided by the infer_\n",
      "signature method. As the model is logged through log_model , the signature is \n",
      "provided. One important advantage of the signatures being logged alongside the model \n",
      "is that they can se\n",
      "\n",
      "\n",
      "\n",
      "131: Architecting the PsyStock ML platform     115\n",
      "• Model management: Not a specific tool for managing models but tools such as \n",
      "MLflow can be added to cover the model management life cycle.\n",
      "• Workflow management: Workflow management is leveraged through a specific \n",
      "tool called Kubeflow Pipelines built \n",
      "\n",
      "\n",
      "\n",
      "240: 224     \n",
      "Packt is searching for authors like you\n",
      "If you're interested in becoming an author for Packt, please visit authors.\n",
      "packtpub.com  and apply today. We have worked with thousands of developers and \n",
      "tech professionals, just like you, to help them share their insight with the global tech \n",
      "commu\n",
      "\n",
      "\n",
      "\n"
     ]
    }
   ],
   "source": [
    "for doc in bmdocs:\n",
    "    print(str(doc.metadata[\"page\"]) + \":\", doc.page_content[:300])\n",
    "    print(\"\\n\\n\")"
   ]
  },
  {
   "cell_type": "code",
   "execution_count": 14,
   "metadata": {},
   "outputs": [],
   "source": [
    "from langchain.retrievers import EnsembleRetriever\n",
    "# initialize the ensemble retriever\n",
    "ensemble_retriever = EnsembleRetriever(\n",
    "    retrievers=[Bm25_retriever, Faiss_retriever], weights=[0.5, 0.5]\n",
    ")"
   ]
  },
  {
   "cell_type": "code",
   "execution_count": 15,
   "metadata": {},
   "outputs": [
    {
     "data": {
      "text/plain": [
       "[Document(page_content=\"224     \\nPackt is searching for authors like you\\nIf you're interested in becoming an author for Packt, please visit authors.\\npacktpub.com  and apply today. We have worked with thousands of developers and \\ntech professionals, just like you, to help them share their insight with the global tech \\ncommunity. Y ou can make a general application, apply for a specific hot topic that we are \\nrecruiting an author for, or submit your own idea.\\nShare Your Thoughts\\nNow you've finished Machine Learning Engineering with MLflow , we'd love to hear your \\nthoughts! Scan the QR code below to go straight to the Amazon review page for this book \\nand share your feedback or leave a review on the site that you purchased it from.\\nhttps://packt.link/r/1-800-56079-6\\nY our review is important to us and the tech community and will help us make sure we're \\ndelivering excellent quality content.\", metadata={'source': 'Natu Lauchande - Machine Learning Engineering with MLflow_ Manage the end-to-end machine learning life cycle with MLflow (2021, Packt Publishing) - libgen.li.pdf', 'page': 240}),\n",
       " Document(page_content='Architecting the PsyStock ML platform     115\\n• Model management: Not a specific tool for managing models but tools such as \\nMLflow can be added to cover the model management life cycle.\\n• Workflow management: Workflow management is leveraged through a specific \\ntool called Kubeflow Pipelines built on top of a generic pipeline tool for Kubernetes \\ncalled Argo Workflows. It allows multi-step pipelines to be built in code.\\nAfter looking at reference architectures, we will now spend time crafting our own, armed \\nwith the state-of-the-art knowledge available in the industry.\\nArchitecting the PsyStock ML platform\\nThere is a set of desirable tenets that we can define for our ML platform based on a \\ndistillation of the research on best practices and example reference architectures. The main \\ntenets that we want to maintain in our platform are the following:\\n• Leverage open systems and standards: Using open systems such as the ones \\navailable in MLflow allows longevity and flexibility to leverage the open source \\ncommunity advances and power to extend the company ML platform at a lower \\ncost.\\n• Favor  scalable solutions : A company needs to be prepared for a future surge in \\ngrowth; although this is the first version, the ability to surge on-demand from \\ntraining and perspective needs to be in place.\\n• Integrated  reliable data life cycle: Data is the center of gravity of the ML platform \\nand should be managed in a reliable and traceable manner at scale.\\n• Follow  SWE best practices: For example, separation of concerns, testability, CI/CD, \\nobservability, and modularity.\\n• Maintain vendor and cloud independence: PsyStock being a start-up is operating \\nin a very dynamic environment and in different geographies with access to different \\nclouds and, in some cases, with compliance requirements of not moving the \\ndata from the given geography. So, being cloud-agnostic and being able to have \\nworkloads in different environments is a competitive advantage.\\nThese tenets will allow us to frame our systems architecture within an open and low-cost \\nsolution for the company and allow the flexibility of running on the different systems \\non-premises, in the cloud, or local.\\nWe have previously defined the business requirements of the prediction use cases, namely \\ndetection of the movement of cryptocurrency and value prediction. To leverage this and \\nother use cases, the creation of an ML platform is critical to the company.', metadata={'source': 'Natu Lauchande - Machine Learning Engineering with MLflow_ Manage the end-to-end machine learning life cycle with MLflow (2021, Packt Publishing) - libgen.li.pdf', 'page': 131}),\n",
       " Document(page_content='118     Introducing ML Systems Architecture\\n5. Model management: Encapsulated by the component of Model Registry , which \\ncontains a store and the associated life cycles projects. The input comes primarily \\nfrom the training jobs and the data science workbench.\\n6. Workflow management: This is a component that allows the orchestration of \\nthe different systems. For example, it allows scheduling jobs and dependency \\nmanagement, enforcing the order of execution. For example, an inference batch \\njob can only be executed after a training job. This can be achieved through the \\noperating system using a Cron system or through more sophisticated workflow \\ntools such as Airflow.\\nWe will next briefly touch on how we will realize the ideas outlined in this section  \\nwith MLflow .\\nMLflow and other ecosystem tools\\nMLflow is a tool that was created by the open source community to address a gap in open \\nsystems for ML systems, focused on reproducibility, model management, and deployment. \\nMLflow is by no means a complete tool; it needs other components and is a central part of \\nan ML solution when its strengths are leveraged.\\nIn recent years, systems such as Kubeflow  have been emerging in the Kubernetes  \\nworld to help manage the infrastructure side of ML systems and being the actual \\ndeployment environment.\\nMinio is a storage system that ships with Kubeflow that will be used as an agnostic storage \\nmechanism for metadata and datasets and provides an abstraction for storage on both \\ncloud and local environments.\\nHaving identified best practices in the industry with regards to ML platforms, outlining \\nour requirements, and, in this section, architecting our ML platform, we will spend the \\nnext four chapters of the book building each of the components of our platform.\\nSummary\\nIn this chapter,\\xa0we introduced the concepts involved in architecting ML systems, \\nmapped stakeholders, identified common issues and best practices, and outlined the \\ninitial architecture. We identified critical building blocks of an ML systems architecture \\non the data layer and modeling and inference layer. The interconnection between the \\ncomponents was stressed and a specification of features was outlined.\\nWe also addressed how MLflow can be leveraged in your ML platform and the \\nshortcomings that can be complemented by other reference tools.', metadata={'source': 'Natu Lauchande - Machine Learning Engineering with MLflow_ Manage the end-to-end machine learning life cycle with MLflow (2021, Packt Publishing) - libgen.li.pdf', 'page': 134}),\n",
       " Document(page_content=\"Preface     xv\\nGet in touch\\nFeedback from our readers is always welcome.\\nGeneral feedback: If you have questions about any aspect of this book, email us at \\ncustomercare@packtpub.com and mention the book title in the subject of your message.\\nErrata: Although we have taken every care to ensure the accuracy of our content, mistakes \\ndo happen. If you have found a mistake in this book, we would be grateful if you would \\nreport this to us. Please visit www.packtpub.com/support/errata  and fill in  \\nthe form.\\nPiracy: If you come across any illegal copies of our works in any form on the internet, \\nwe would be grateful if you would provide us with the location address or website name. \\nPlease contact us at copyright@packt.com with a link to the material.\\nIf you are interested in becoming an author: If there is a topic that you have expertise  \\nin and you are interested in either writing or contributing to a book, please visit \\nauthors.packtpub.com .\\nShare Your Thoughts\\nOnce you've read Machine Learning Engineering with MLflow , we'd love to hear your \\nthoughts! Scan the QR code below to go straight to the Amazon review page for this  \\nbook and share your feedback.\\nhttps://packt.link/r/1-800-56079-6\\nY our review is important to us and the tech community and will help us make sure we're \\ndelivering excellent quality content.\", metadata={'source': 'Natu Lauchande - Machine Learning Engineering with MLflow_ Manage the end-to-end machine learning life cycle with MLflow (2021, Packt Publishing) - libgen.li.pdf', 'page': 15}),\n",
       " Document(page_content='174     Scaling Up Y our Machine Learning Workflow\\nYou  c an  see an overview of the cluster-creation process in the following screenshot:\\nFigure 10.2 – Creating a cluster in Databricks Community Edition\\n6. Create a new notebook in your Databricks platform on your landing workspace \\npage by clicking on the Create a Blank Notebook  button at the top right of the \\npage, as illustrated in the following screenshot:\\nFigure 10.3 – Creating a new notebook in Databricks Community Edition', metadata={'source': 'Natu Lauchande - Machine Learning Engineering with MLflow_ Manage the end-to-end machine learning life cycle with MLflow (2021, Packt Publishing) - libgen.li.pdf', 'page': 190}),\n",
       " Document(page_content='94     Managing Models with MLflow\\nIn the previous code block, the signature of the model is provided by the infer_\\nsignature method. As the model is logged through log_model , the signature is \\nprovided. One important advantage of the signatures being logged alongside the model \\nis that they can serve as documentation and metadata for the model. Third-party systems \\ncan consume the metadata and interact with the models by validating the data or \\ngenerating documentation for the models.\\nIn this section, we introduced the model schema and signature features of MLflow \\nmodels. We will now move on to the other critical module in this space, namely the  \\nModel Registry.\\nIntroducing Model Registry\\nMLflow Model Registry is a module in MLflow that comprises a centralized store for \\nModels, an API allowing the management of the life cycle of a model in a registry.\\nA typical workflow for a machine learning model developer is to acquire training data; \\nclean, process, and train models; and from there on, hand over to a system or person that \\ndeploys the models. In very small settings, where you have one person responsible for \\nthis function, it is quite trivial. Challenges and friction start to arise when the variety and \\nquantity of models in a team start to scale. A selection of common friction points raised \\nby machine learning developers with regards to storing and retrieving models follows:\\n• Collaboration in larger teams\\n• Phasing out stale models in production\\n• The provenance of a model\\n• A lack of documentation for models\\n• Identifying the correct version of a model\\n• How to integrate the model with deployment tools\\nThe main idea behind MLflow Model Registry is to provide a central store model in an \\norganization where all the relevant models are stored and can be accessed by humans and \\nsystems. A good analogy would be a Git repository for models with associated relevant \\nmetadata and centralized state management for models.', metadata={'source': 'Natu Lauchande - Machine Learning Engineering with MLflow_ Manage the end-to-end machine learning life cycle with MLflow (2021, Packt Publishing) - libgen.li.pdf', 'page': 110}),\n",
       " Document(page_content='6\\nIntroducing \\nML Systems \\nArchitecture\\nIn this chapter, you will learn about general principles of Machine Learning (ML) systems \\narchitecture in the broader context of Software Engineering (SWE) and common issues \\nwith deploying models in production in a reliable way. Y ou will also have the opportunity \\nto follow along with architecting our ML systems. We will briefly look at how with \\nMLflow, in conjunction with other relevant tools, we can build reliable and scalable  \\nML platforms.\\nSpecifically,\\xa0we will look at the following\\xa0sections in this chapter:\\n• Understanding challenges with ML systems and projects\\n• Surveying state-of-the-art ML platforms\\n• Architecting the PsyStock ML platform\\nY ou will follow a process of understanding the problem, studying different solutions from \\nlead companies in the industry, and then developing your own relevant architecture. This \\nthree-step approach is transferrable to any future ML system that you want to develop.', metadata={'source': 'Natu Lauchande - Machine Learning Engineering with MLflow_ Manage the end-to-end machine learning life cycle with MLflow (2021, Packt Publishing) - libgen.li.pdf', 'page': 121}),\n",
       " Document(page_content='3\\nYour Data Science \\nWorkbench\\nIn this chapter, you will learn about MLflow in the context of creating a local environment \\nso that you can develop your machine learning project locally with the different features \\nprovided by MLflow. This chapter is focused on machine learning engineering, and one \\nof the most important roles of a machine learning engineer is to build up an environment \\nwhere model developers and practitioners can be efficient. We will also demonstrate a \\nhands-on example of how we can use workbenches to accomplish specific tasks.\\nSpecifically,\\xa0we will look at the following\\xa0topics in this chapter:\\xa0\\n• Understanding the value of a data science workbench\\n• Creating your own data science workbench\\n• Using the workbench for stock prediction', metadata={'source': 'Natu Lauchande - Machine Learning Engineering with MLflow_ Manage the end-to-end machine learning life cycle with MLflow (2021, Packt Publishing) - libgen.li.pdf', 'page': 59})]"
      ]
     },
     "execution_count": 15,
     "metadata": {},
     "output_type": "execute_result"
    }
   ],
   "source": [
    "docs = ensemble_retriever.invoke(\"How will the community be engaged?\")\n",
    "docs"
   ]
  },
  {
   "cell_type": "code",
   "execution_count": 16,
   "metadata": {},
   "outputs": [
    {
     "data": {
      "text/plain": [
       "8"
      ]
     },
     "execution_count": 16,
     "metadata": {},
     "output_type": "execute_result"
    }
   ],
   "source": [
    "len(docs)"
   ]
  },
  {
   "cell_type": "code",
   "execution_count": 17,
   "metadata": {},
   "outputs": [
    {
     "name": "stdout",
     "output_type": "stream",
     "text": [
      "page_content=\"224     \\nPackt is searching for authors like you\\nIf you're interested in becoming an author for Packt, please visit authors.\\npacktpub.com  and apply today. We have worked with thousands of developers and \\ntech professionals, just like you, to help them share their insight with the global tech \\ncommunity. Y ou can make a general application, apply for a specific hot topic that we are \\nrecruiting an author for, or submit your own idea.\\nShare Your Thoughts\\nNow you've finished Machine Learning Engineering with MLflow , we'd love to hear your \\nthoughts! Scan the QR code below to go straight to the Amazon review page for this book \\nand share your feedback or leave a review on the site that you purchased it from.\\nhttps://packt.link/r/1-800-56079-6\\nY our review is important to us and the tech community and will help us make sure we're \\ndelivering excellent quality content.\" metadata={'source': 'Natu Lauchande - Machine Learning Engineering with MLflow_ Manage the end-to-end machine learning life cycle with MLflow (2021, Packt Publishing) - libgen.li.pdf', 'page': 240}\n",
      "page_content='Architecting the PsyStock ML platform     115\\n• Model management: Not a specific tool for managing models but tools such as \\nMLflow can be added to cover the model management life cycle.\\n• Workflow management: Workflow management is leveraged through a specific \\ntool called Kubeflow Pipelines built on top of a generic pipeline tool for Kubernetes \\ncalled Argo Workflows. It allows multi-step pipelines to be built in code.\\nAfter looking at reference architectures, we will now spend time crafting our own, armed \\nwith the state-of-the-art knowledge available in the industry.\\nArchitecting the PsyStock ML platform\\nThere is a set of desirable tenets that we can define for our ML platform based on a \\ndistillation of the research on best practices and example reference architectures. The main \\ntenets that we want to maintain in our platform are the following:\\n• Leverage open systems and standards: Using open systems such as the ones \\navailable in MLflow allows longevity and flexibility to leverage the open source \\ncommunity advances and power to extend the company ML platform at a lower \\ncost.\\n• Favor  scalable solutions : A company needs to be prepared for a future surge in \\ngrowth; although this is the first version, the ability to surge on-demand from \\ntraining and perspective needs to be in place.\\n• Integrated  reliable data life cycle: Data is the center of gravity of the ML platform \\nand should be managed in a reliable and traceable manner at scale.\\n• Follow  SWE best practices: For example, separation of concerns, testability, CI/CD, \\nobservability, and modularity.\\n• Maintain vendor and cloud independence: PsyStock being a start-up is operating \\nin a very dynamic environment and in different geographies with access to different \\nclouds and, in some cases, with compliance requirements of not moving the \\ndata from the given geography. So, being cloud-agnostic and being able to have \\nworkloads in different environments is a competitive advantage.\\nThese tenets will allow us to frame our systems architecture within an open and low-cost \\nsolution for the company and allow the flexibility of running on the different systems \\non-premises, in the cloud, or local.\\nWe have previously defined the business requirements of the prediction use cases, namely \\ndetection of the movement of cryptocurrency and value prediction. To leverage this and \\nother use cases, the creation of an ML platform is critical to the company.' metadata={'source': 'Natu Lauchande - Machine Learning Engineering with MLflow_ Manage the end-to-end machine learning life cycle with MLflow (2021, Packt Publishing) - libgen.li.pdf', 'page': 131}\n",
      "page_content='118     Introducing ML Systems Architecture\\n5. Model management: Encapsulated by the component of Model Registry , which \\ncontains a store and the associated life cycles projects. The input comes primarily \\nfrom the training jobs and the data science workbench.\\n6. Workflow management: This is a component that allows the orchestration of \\nthe different systems. For example, it allows scheduling jobs and dependency \\nmanagement, enforcing the order of execution. For example, an inference batch \\njob can only be executed after a training job. This can be achieved through the \\noperating system using a Cron system or through more sophisticated workflow \\ntools such as Airflow.\\nWe will next briefly touch on how we will realize the ideas outlined in this section  \\nwith MLflow .\\nMLflow and other ecosystem tools\\nMLflow is a tool that was created by the open source community to address a gap in open \\nsystems for ML systems, focused on reproducibility, model management, and deployment. \\nMLflow is by no means a complete tool; it needs other components and is a central part of \\nan ML solution when its strengths are leveraged.\\nIn recent years, systems such as Kubeflow  have been emerging in the Kubernetes  \\nworld to help manage the infrastructure side of ML systems and being the actual \\ndeployment environment.\\nMinio is a storage system that ships with Kubeflow that will be used as an agnostic storage \\nmechanism for metadata and datasets and provides an abstraction for storage on both \\ncloud and local environments.\\nHaving identified best practices in the industry with regards to ML platforms, outlining \\nour requirements, and, in this section, architecting our ML platform, we will spend the \\nnext four chapters of the book building each of the components of our platform.\\nSummary\\nIn this chapter,\\xa0we introduced the concepts involved in architecting ML systems, \\nmapped stakeholders, identified common issues and best practices, and outlined the \\ninitial architecture. We identified critical building blocks of an ML systems architecture \\non the data layer and modeling and inference layer. The interconnection between the \\ncomponents was stressed and a specification of features was outlined.\\nWe also addressed how MLflow can be leveraged in your ML platform and the \\nshortcomings that can be complemented by other reference tools.' metadata={'source': 'Natu Lauchande - Machine Learning Engineering with MLflow_ Manage the end-to-end machine learning life cycle with MLflow (2021, Packt Publishing) - libgen.li.pdf', 'page': 134}\n",
      "page_content=\"Preface     xv\\nGet in touch\\nFeedback from our readers is always welcome.\\nGeneral feedback: If you have questions about any aspect of this book, email us at \\ncustomercare@packtpub.com and mention the book title in the subject of your message.\\nErrata: Although we have taken every care to ensure the accuracy of our content, mistakes \\ndo happen. If you have found a mistake in this book, we would be grateful if you would \\nreport this to us. Please visit www.packtpub.com/support/errata  and fill in  \\nthe form.\\nPiracy: If you come across any illegal copies of our works in any form on the internet, \\nwe would be grateful if you would provide us with the location address or website name. \\nPlease contact us at copyright@packt.com with a link to the material.\\nIf you are interested in becoming an author: If there is a topic that you have expertise  \\nin and you are interested in either writing or contributing to a book, please visit \\nauthors.packtpub.com .\\nShare Your Thoughts\\nOnce you've read Machine Learning Engineering with MLflow , we'd love to hear your \\nthoughts! Scan the QR code below to go straight to the Amazon review page for this  \\nbook and share your feedback.\\nhttps://packt.link/r/1-800-56079-6\\nY our review is important to us and the tech community and will help us make sure we're \\ndelivering excellent quality content.\" metadata={'source': 'Natu Lauchande - Machine Learning Engineering with MLflow_ Manage the end-to-end machine learning life cycle with MLflow (2021, Packt Publishing) - libgen.li.pdf', 'page': 15}\n",
      "page_content='174     Scaling Up Y our Machine Learning Workflow\\nYou  c an  see an overview of the cluster-creation process in the following screenshot:\\nFigure 10.2 – Creating a cluster in Databricks Community Edition\\n6. Create a new notebook in your Databricks platform on your landing workspace \\npage by clicking on the Create a Blank Notebook  button at the top right of the \\npage, as illustrated in the following screenshot:\\nFigure 10.3 – Creating a new notebook in Databricks Community Edition' metadata={'source': 'Natu Lauchande - Machine Learning Engineering with MLflow_ Manage the end-to-end machine learning life cycle with MLflow (2021, Packt Publishing) - libgen.li.pdf', 'page': 190}\n",
      "page_content='94     Managing Models with MLflow\\nIn the previous code block, the signature of the model is provided by the infer_\\nsignature method. As the model is logged through log_model , the signature is \\nprovided. One important advantage of the signatures being logged alongside the model \\nis that they can serve as documentation and metadata for the model. Third-party systems \\ncan consume the metadata and interact with the models by validating the data or \\ngenerating documentation for the models.\\nIn this section, we introduced the model schema and signature features of MLflow \\nmodels. We will now move on to the other critical module in this space, namely the  \\nModel Registry.\\nIntroducing Model Registry\\nMLflow Model Registry is a module in MLflow that comprises a centralized store for \\nModels, an API allowing the management of the life cycle of a model in a registry.\\nA typical workflow for a machine learning model developer is to acquire training data; \\nclean, process, and train models; and from there on, hand over to a system or person that \\ndeploys the models. In very small settings, where you have one person responsible for \\nthis function, it is quite trivial. Challenges and friction start to arise when the variety and \\nquantity of models in a team start to scale. A selection of common friction points raised \\nby machine learning developers with regards to storing and retrieving models follows:\\n• Collaboration in larger teams\\n• Phasing out stale models in production\\n• The provenance of a model\\n• A lack of documentation for models\\n• Identifying the correct version of a model\\n• How to integrate the model with deployment tools\\nThe main idea behind MLflow Model Registry is to provide a central store model in an \\norganization where all the relevant models are stored and can be accessed by humans and \\nsystems. A good analogy would be a Git repository for models with associated relevant \\nmetadata and centralized state management for models.' metadata={'source': 'Natu Lauchande - Machine Learning Engineering with MLflow_ Manage the end-to-end machine learning life cycle with MLflow (2021, Packt Publishing) - libgen.li.pdf', 'page': 110}\n",
      "page_content='6\\nIntroducing \\nML Systems \\nArchitecture\\nIn this chapter, you will learn about general principles of Machine Learning (ML) systems \\narchitecture in the broader context of Software Engineering (SWE) and common issues \\nwith deploying models in production in a reliable way. Y ou will also have the opportunity \\nto follow along with architecting our ML systems. We will briefly look at how with \\nMLflow, in conjunction with other relevant tools, we can build reliable and scalable  \\nML platforms.\\nSpecifically,\\xa0we will look at the following\\xa0sections in this chapter:\\n• Understanding challenges with ML systems and projects\\n• Surveying state-of-the-art ML platforms\\n• Architecting the PsyStock ML platform\\nY ou will follow a process of understanding the problem, studying different solutions from \\nlead companies in the industry, and then developing your own relevant architecture. This \\nthree-step approach is transferrable to any future ML system that you want to develop.' metadata={'source': 'Natu Lauchande - Machine Learning Engineering with MLflow_ Manage the end-to-end machine learning life cycle with MLflow (2021, Packt Publishing) - libgen.li.pdf', 'page': 121}\n",
      "page_content='3\\nYour Data Science \\nWorkbench\\nIn this chapter, you will learn about MLflow in the context of creating a local environment \\nso that you can develop your machine learning project locally with the different features \\nprovided by MLflow. This chapter is focused on machine learning engineering, and one \\nof the most important roles of a machine learning engineer is to build up an environment \\nwhere model developers and practitioners can be efficient. We will also demonstrate a \\nhands-on example of how we can use workbenches to accomplish specific tasks.\\nSpecifically,\\xa0we will look at the following\\xa0topics in this chapter:\\xa0\\n• Understanding the value of a data science workbench\\n• Creating your own data science workbench\\n• Using the workbench for stock prediction' metadata={'source': 'Natu Lauchande - Machine Learning Engineering with MLflow_ Manage the end-to-end machine learning life cycle with MLflow (2021, Packt Publishing) - libgen.li.pdf', 'page': 59}\n"
     ]
    }
   ],
   "source": [
    "for doc in docs:\n",
    "    # print(str(doc.page_content[:300]))\n",
    "    print(doc)\n",
    "    # print(\"\\n\\n\")"
   ]
  },
  {
   "cell_type": "code",
   "execution_count": 18,
   "metadata": {},
   "outputs": [
    {
     "data": {
      "text/plain": [
       "\"224     \\nPackt is searching for authors like you\\nIf you're interested in becoming an author for Packt, please visit authors.\\npacktpub.com  and apply today. We have worked with thousands of developers and \\ntech professionals, just like you, to help them share their insight with the global tech \\ncommunity. Y ou can make a general application, apply for a specific hot topic that we are \\nrecruiting an author for, or submit your own idea.\\nShare Your Thoughts\\nNow you've finished Machine Learning Engineering with MLflow , we'd love to hear your \\nthoughts! Scan the QR code below to go straight to the Amazon review page for this book \\nand share your feedback or leave a review on the site that you purchased it from.\\nhttps://packt.link/r/1-800-56079-6\\nY our review is important to us and the tech community and will help us make sure we're \\ndelivering excellent quality content.\""
      ]
     },
     "execution_count": 18,
     "metadata": {},
     "output_type": "execute_result"
    }
   ],
   "source": [
    "docs[0].page_content"
   ]
  },
  {
   "cell_type": "code",
   "execution_count": 19,
   "metadata": {},
   "outputs": [
    {
     "name": "stdout",
     "output_type": "stream",
     "text": [
      "224     \n",
      "Packt is searching for authors like you\n",
      "If you're interested in becoming an author for Packt, please visit authors.\n",
      "packtpub.com  and apply today. We have worked with thousands of developers and \n",
      "tech professionals, just like you, to help them share their insight with the global tech \n",
      "community. Y ou can make a general application, apply for a specific hot topic that we are \n",
      "recruiting an author for, or submit your own idea.\n",
      "Share Your Thoughts\n",
      "Now you've finished Machine Learning Engineering with MLflow , we'd love to hear your \n",
      "thoughts! Scan the QR code below to go straight to the Amazon review page for this book \n",
      "and share your feedback or leave a review on the site that you purchased it from.\n",
      "https://packt.link/r/1-800-56079-6\n",
      "Y our review is important to us and the tech community and will help us make sure we're \n",
      "delivering excellent quality content.\n",
      "Architecting the PsyStock ML platform     115\n",
      "• Model management: Not a specific tool for managing models but tools such as \n",
      "MLflow can be added to cover the model management life cycle.\n",
      "• Workflow management: Workflow management is leveraged through a specific \n",
      "tool called Kubeflow Pipelines built on top of a generic pipeline tool for Kubernetes \n",
      "called Argo Workflows. It allows multi-step pipelines to be built in code.\n",
      "After looking at reference architectures, we will now spend time crafting our own, armed \n",
      "with the state-of-the-art knowledge available in the industry.\n",
      "Architecting the PsyStock ML platform\n",
      "There is a set of desirable tenets that we can define for our ML platform based on a \n",
      "distillation of the research on best practices and example reference architectures. The main \n",
      "tenets that we want to maintain in our platform are the following:\n",
      "• Leverage open systems and standards: Using open systems such as the ones \n",
      "available in MLflow allows longevity and flexibility to leverage the open source \n",
      "community advances and power to extend the company ML platform at a lower \n",
      "cost.\n",
      "• Favor  scalable solutions : A company needs to be prepared for a future surge in \n",
      "growth; although this is the first version, the ability to surge on-demand from \n",
      "training and perspective needs to be in place.\n",
      "• Integrated  reliable data life cycle: Data is the center of gravity of the ML platform \n",
      "and should be managed in a reliable and traceable manner at scale.\n",
      "• Follow  SWE best practices: For example, separation of concerns, testability, CI/CD, \n",
      "observability, and modularity.\n",
      "• Maintain vendor and cloud independence: PsyStock being a start-up is operating \n",
      "in a very dynamic environment and in different geographies with access to different \n",
      "clouds and, in some cases, with compliance requirements of not moving the \n",
      "data from the given geography. So, being cloud-agnostic and being able to have \n",
      "workloads in different environments is a competitive advantage.\n",
      "These tenets will allow us to frame our systems architecture within an open and low-cost \n",
      "solution for the company and allow the flexibility of running on the different systems \n",
      "on-premises, in the cloud, or local.\n",
      "We have previously defined the business requirements of the prediction use cases, namely \n",
      "detection of the movement of cryptocurrency and value prediction. To leverage this and \n",
      "other use cases, the creation of an ML platform is critical to the company.\n",
      "118     Introducing ML Systems Architecture\n",
      "5. Model management: Encapsulated by the component of Model Registry , which \n",
      "contains a store and the associated life cycles projects. The input comes primarily \n",
      "from the training jobs and the data science workbench.\n",
      "6. Workflow management: This is a component that allows the orchestration of \n",
      "the different systems. For example, it allows scheduling jobs and dependency \n",
      "management, enforcing the order of execution. For example, an inference batch \n",
      "job can only be executed after a training job. This can be achieved through the \n",
      "operating system using a Cron system or through more sophisticated workflow \n",
      "tools such as Airflow.\n",
      "We will next briefly touch on how we will realize the ideas outlined in this section  \n",
      "with MLflow .\n",
      "MLflow and other ecosystem tools\n",
      "MLflow is a tool that was created by the open source community to address a gap in open \n",
      "systems for ML systems, focused on reproducibility, model management, and deployment. \n",
      "MLflow is by no means a complete tool; it needs other components and is a central part of \n",
      "an ML solution when its strengths are leveraged.\n",
      "In recent years, systems such as Kubeflow  have been emerging in the Kubernetes  \n",
      "world to help manage the infrastructure side of ML systems and being the actual \n",
      "deployment environment.\n",
      "Minio is a storage system that ships with Kubeflow that will be used as an agnostic storage \n",
      "mechanism for metadata and datasets and provides an abstraction for storage on both \n",
      "cloud and local environments.\n",
      "Having identified best practices in the industry with regards to ML platforms, outlining \n",
      "our requirements, and, in this section, architecting our ML platform, we will spend the \n",
      "next four chapters of the book building each of the components of our platform.\n",
      "Summary\n",
      "In this chapter, we introduced the concepts involved in architecting ML systems, \n",
      "mapped stakeholders, identified common issues and best practices, and outlined the \n",
      "initial architecture. We identified critical building blocks of an ML systems architecture \n",
      "on the data layer and modeling and inference layer. The interconnection between the \n",
      "components was stressed and a specification of features was outlined.\n",
      "We also addressed how MLflow can be leveraged in your ML platform and the \n",
      "shortcomings that can be complemented by other reference tools.\n",
      "Preface     xv\n",
      "Get in touch\n",
      "Feedback from our readers is always welcome.\n",
      "General feedback: If you have questions about any aspect of this book, email us at \n",
      "customercare@packtpub.com and mention the book title in the subject of your message.\n",
      "Errata: Although we have taken every care to ensure the accuracy of our content, mistakes \n",
      "do happen. If you have found a mistake in this book, we would be grateful if you would \n",
      "report this to us. Please visit www.packtpub.com/support/errata  and fill in  \n",
      "the form.\n",
      "Piracy: If you come across any illegal copies of our works in any form on the internet, \n",
      "we would be grateful if you would provide us with the location address or website name. \n",
      "Please contact us at copyright@packt.com with a link to the material.\n",
      "If you are interested in becoming an author: If there is a topic that you have expertise  \n",
      "in and you are interested in either writing or contributing to a book, please visit \n",
      "authors.packtpub.com .\n",
      "Share Your Thoughts\n",
      "Once you've read Machine Learning Engineering with MLflow , we'd love to hear your \n",
      "thoughts! Scan the QR code below to go straight to the Amazon review page for this  \n",
      "book and share your feedback.\n",
      "https://packt.link/r/1-800-56079-6\n",
      "Y our review is important to us and the tech community and will help us make sure we're \n",
      "delivering excellent quality content.\n",
      "174     Scaling Up Y our Machine Learning Workflow\n",
      "You  c an  see an overview of the cluster-creation process in the following screenshot:\n",
      "Figure 10.2 – Creating a cluster in Databricks Community Edition\n",
      "6. Create a new notebook in your Databricks platform on your landing workspace \n",
      "page by clicking on the Create a Blank Notebook  button at the top right of the \n",
      "page, as illustrated in the following screenshot:\n",
      "Figure 10.3 – Creating a new notebook in Databricks Community Edition\n",
      "94     Managing Models with MLflow\n",
      "In the previous code block, the signature of the model is provided by the infer_\n",
      "signature method. As the model is logged through log_model , the signature is \n",
      "provided. One important advantage of the signatures being logged alongside the model \n",
      "is that they can serve as documentation and metadata for the model. Third-party systems \n",
      "can consume the metadata and interact with the models by validating the data or \n",
      "generating documentation for the models.\n",
      "In this section, we introduced the model schema and signature features of MLflow \n",
      "models. We will now move on to the other critical module in this space, namely the  \n",
      "Model Registry.\n",
      "Introducing Model Registry\n",
      "MLflow Model Registry is a module in MLflow that comprises a centralized store for \n",
      "Models, an API allowing the management of the life cycle of a model in a registry.\n",
      "A typical workflow for a machine learning model developer is to acquire training data; \n",
      "clean, process, and train models; and from there on, hand over to a system or person that \n",
      "deploys the models. In very small settings, where you have one person responsible for \n",
      "this function, it is quite trivial. Challenges and friction start to arise when the variety and \n",
      "quantity of models in a team start to scale. A selection of common friction points raised \n",
      "by machine learning developers with regards to storing and retrieving models follows:\n",
      "• Collaboration in larger teams\n",
      "• Phasing out stale models in production\n",
      "• The provenance of a model\n",
      "• A lack of documentation for models\n",
      "• Identifying the correct version of a model\n",
      "• How to integrate the model with deployment tools\n",
      "The main idea behind MLflow Model Registry is to provide a central store model in an \n",
      "organization where all the relevant models are stored and can be accessed by humans and \n",
      "systems. A good analogy would be a Git repository for models with associated relevant \n",
      "metadata and centralized state management for models.\n",
      "6\n",
      "Introducing \n",
      "ML Systems \n",
      "Architecture\n",
      "In this chapter, you will learn about general principles of Machine Learning (ML) systems \n",
      "architecture in the broader context of Software Engineering (SWE) and common issues \n",
      "with deploying models in production in a reliable way. Y ou will also have the opportunity \n",
      "to follow along with architecting our ML systems. We will briefly look at how with \n",
      "MLflow, in conjunction with other relevant tools, we can build reliable and scalable  \n",
      "ML platforms.\n",
      "Specifically, we will look at the following sections in this chapter:\n",
      "• Understanding challenges with ML systems and projects\n",
      "• Surveying state-of-the-art ML platforms\n",
      "• Architecting the PsyStock ML platform\n",
      "Y ou will follow a process of understanding the problem, studying different solutions from \n",
      "lead companies in the industry, and then developing your own relevant architecture. This \n",
      "three-step approach is transferrable to any future ML system that you want to develop.\n",
      "3\n",
      "Your Data Science \n",
      "Workbench\n",
      "In this chapter, you will learn about MLflow in the context of creating a local environment \n",
      "so that you can develop your machine learning project locally with the different features \n",
      "provided by MLflow. This chapter is focused on machine learning engineering, and one \n",
      "of the most important roles of a machine learning engineer is to build up an environment \n",
      "where model developers and practitioners can be efficient. We will also demonstrate a \n",
      "hands-on example of how we can use workbenches to accomplish specific tasks.\n",
      "Specifically, we will look at the following topics in this chapter: \n",
      "• Understanding the value of a data science workbench\n",
      "• Creating your own data science workbench\n",
      "• Using the workbench for stock prediction\n"
     ]
    }
   ],
   "source": [
    "for doc in docs:\n",
    "    print(doc.page_content)"
   ]
  },
  {
   "cell_type": "code",
   "execution_count": 87,
   "metadata": {},
   "outputs": [
    {
     "name": "stderr",
     "output_type": "stream",
     "text": [
      "c:\\Users\\shyams\\Downloads\\Rag with Human feedback\\.venv\\Lib\\site-packages\\huggingface_hub\\file_download.py:1132: FutureWarning: `resume_download` is deprecated and will be removed in version 1.0.0. Downloads always resume when possible. If you want to force a new download, use `force_download=True`.\n",
      "  warnings.warn(\n"
     ]
    }
   ],
   "source": [
    "corpus = [[\"How will the community be engaged?\", doc.page_content] for doc in docs]\n",
    "import numpy as np\n",
    "from sentence_transformers import CrossEncoder\n",
    "model = CrossEncoder(\"cross-encoder/ms-marco-MiniLM-L-6-v2\")\n",
    "reranker=model.predict(corpus)\n",
    "# Sort the scores in decreasing order to get the corpus indices\n",
    "ranked_indices = np.argsort(reranker)[::-1]"
   ]
  },
  {
   "cell_type": "code",
   "execution_count": 88,
   "metadata": {},
   "outputs": [
    {
     "data": {
      "text/plain": [
       "[['How will the community be engaged?',\n",
       "  \"224     \\nPackt is searching for authors like you\\nIf you're interested in becoming an author for Packt, please visit authors.\\npacktpub.com  and apply today. We have worked with thousands of developers and \\ntech professionals, just like you, to help them share their insight with the global tech \\ncommunity. Y ou can make a general application, apply for a specific hot topic that we are \\nrecruiting an author for, or submit your own idea.\\nShare Your Thoughts\\nNow you've finished Machine Learning Engineering with MLflow , we'd love to hear your \\nthoughts! Scan the QR code below to go straight to the Amazon review page for this book \\nand share your feedback or leave a review on the site that you purchased it from.\\nhttps://packt.link/r/1-800-56079-6\\nY our review is important to us and the tech community and will help us make sure we're \\ndelivering excellent quality content.\"],\n",
       " ['How will the community be engaged?',\n",
       "  'Architecting the PsyStock ML platform     115\\n• Model management: Not a specific tool for managing models but tools such as \\nMLflow can be added to cover the model management life cycle.\\n• Workflow management: Workflow management is leveraged through a specific \\ntool called Kubeflow Pipelines built on top of a generic pipeline tool for Kubernetes \\ncalled Argo Workflows. It allows multi-step pipelines to be built in code.\\nAfter looking at reference architectures, we will now spend time crafting our own, armed \\nwith the state-of-the-art knowledge available in the industry.\\nArchitecting the PsyStock ML platform\\nThere is a set of desirable tenets that we can define for our ML platform based on a \\ndistillation of the research on best practices and example reference architectures. The main \\ntenets that we want to maintain in our platform are the following:\\n• Leverage open systems and standards: Using open systems such as the ones \\navailable in MLflow allows longevity and flexibility to leverage the open source \\ncommunity advances and power to extend the company ML platform at a lower \\ncost.\\n• Favor  scalable solutions : A company needs to be prepared for a future surge in \\ngrowth; although this is the first version, the ability to surge on-demand from \\ntraining and perspective needs to be in place.\\n• Integrated  reliable data life cycle: Data is the center of gravity of the ML platform \\nand should be managed in a reliable and traceable manner at scale.\\n• Follow  SWE best practices: For example, separation of concerns, testability, CI/CD, \\nobservability, and modularity.\\n• Maintain vendor and cloud independence: PsyStock being a start-up is operating \\nin a very dynamic environment and in different geographies with access to different \\nclouds and, in some cases, with compliance requirements of not moving the \\ndata from the given geography. So, being cloud-agnostic and being able to have \\nworkloads in different environments is a competitive advantage.\\nThese tenets will allow us to frame our systems architecture within an open and low-cost \\nsolution for the company and allow the flexibility of running on the different systems \\non-premises, in the cloud, or local.\\nWe have previously defined the business requirements of the prediction use cases, namely \\ndetection of the movement of cryptocurrency and value prediction. To leverage this and \\nother use cases, the creation of an ML platform is critical to the company.'],\n",
       " ['How will the community be engaged?',\n",
       "  '118     Introducing ML Systems Architecture\\n5. Model management: Encapsulated by the component of Model Registry , which \\ncontains a store and the associated life cycles projects. The input comes primarily \\nfrom the training jobs and the data science workbench.\\n6. Workflow management: This is a component that allows the orchestration of \\nthe different systems. For example, it allows scheduling jobs and dependency \\nmanagement, enforcing the order of execution. For example, an inference batch \\njob can only be executed after a training job. This can be achieved through the \\noperating system using a Cron system or through more sophisticated workflow \\ntools such as Airflow.\\nWe will next briefly touch on how we will realize the ideas outlined in this section  \\nwith MLflow .\\nMLflow and other ecosystem tools\\nMLflow is a tool that was created by the open source community to address a gap in open \\nsystems for ML systems, focused on reproducibility, model management, and deployment. \\nMLflow is by no means a complete tool; it needs other components and is a central part of \\nan ML solution when its strengths are leveraged.\\nIn recent years, systems such as Kubeflow  have been emerging in the Kubernetes  \\nworld to help manage the infrastructure side of ML systems and being the actual \\ndeployment environment.\\nMinio is a storage system that ships with Kubeflow that will be used as an agnostic storage \\nmechanism for metadata and datasets and provides an abstraction for storage on both \\ncloud and local environments.\\nHaving identified best practices in the industry with regards to ML platforms, outlining \\nour requirements, and, in this section, architecting our ML platform, we will spend the \\nnext four chapters of the book building each of the components of our platform.\\nSummary\\nIn this chapter,\\xa0we introduced the concepts involved in architecting ML systems, \\nmapped stakeholders, identified common issues and best practices, and outlined the \\ninitial architecture. We identified critical building blocks of an ML systems architecture \\non the data layer and modeling and inference layer. The interconnection between the \\ncomponents was stressed and a specification of features was outlined.\\nWe also addressed how MLflow can be leveraged in your ML platform and the \\nshortcomings that can be complemented by other reference tools.'],\n",
       " ['How will the community be engaged?',\n",
       "  \"Preface     xv\\nGet in touch\\nFeedback from our readers is always welcome.\\nGeneral feedback: If you have questions about any aspect of this book, email us at \\ncustomercare@packtpub.com and mention the book title in the subject of your message.\\nErrata: Although we have taken every care to ensure the accuracy of our content, mistakes \\ndo happen. If you have found a mistake in this book, we would be grateful if you would \\nreport this to us. Please visit www.packtpub.com/support/errata  and fill in  \\nthe form.\\nPiracy: If you come across any illegal copies of our works in any form on the internet, \\nwe would be grateful if you would provide us with the location address or website name. \\nPlease contact us at copyright@packt.com with a link to the material.\\nIf you are interested in becoming an author: If there is a topic that you have expertise  \\nin and you are interested in either writing or contributing to a book, please visit \\nauthors.packtpub.com .\\nShare Your Thoughts\\nOnce you've read Machine Learning Engineering with MLflow , we'd love to hear your \\nthoughts! Scan the QR code below to go straight to the Amazon review page for this  \\nbook and share your feedback.\\nhttps://packt.link/r/1-800-56079-6\\nY our review is important to us and the tech community and will help us make sure we're \\ndelivering excellent quality content.\"],\n",
       " ['How will the community be engaged?',\n",
       "  '174     Scaling Up Y our Machine Learning Workflow\\nYou  c an  see an overview of the cluster-creation process in the following screenshot:\\nFigure 10.2 – Creating a cluster in Databricks Community Edition\\n6. Create a new notebook in your Databricks platform on your landing workspace \\npage by clicking on the Create a Blank Notebook  button at the top right of the \\npage, as illustrated in the following screenshot:\\nFigure 10.3 – Creating a new notebook in Databricks Community Edition'],\n",
       " ['How will the community be engaged?',\n",
       "  '94     Managing Models with MLflow\\nIn the previous code block, the signature of the model is provided by the infer_\\nsignature method. As the model is logged through log_model , the signature is \\nprovided. One important advantage of the signatures being logged alongside the model \\nis that they can serve as documentation and metadata for the model. Third-party systems \\ncan consume the metadata and interact with the models by validating the data or \\ngenerating documentation for the models.\\nIn this section, we introduced the model schema and signature features of MLflow \\nmodels. We will now move on to the other critical module in this space, namely the  \\nModel Registry.\\nIntroducing Model Registry\\nMLflow Model Registry is a module in MLflow that comprises a centralized store for \\nModels, an API allowing the management of the life cycle of a model in a registry.\\nA typical workflow for a machine learning model developer is to acquire training data; \\nclean, process, and train models; and from there on, hand over to a system or person that \\ndeploys the models. In very small settings, where you have one person responsible for \\nthis function, it is quite trivial. Challenges and friction start to arise when the variety and \\nquantity of models in a team start to scale. A selection of common friction points raised \\nby machine learning developers with regards to storing and retrieving models follows:\\n• Collaboration in larger teams\\n• Phasing out stale models in production\\n• The provenance of a model\\n• A lack of documentation for models\\n• Identifying the correct version of a model\\n• How to integrate the model with deployment tools\\nThe main idea behind MLflow Model Registry is to provide a central store model in an \\norganization where all the relevant models are stored and can be accessed by humans and \\nsystems. A good analogy would be a Git repository for models with associated relevant \\nmetadata and centralized state management for models.'],\n",
       " ['How will the community be engaged?',\n",
       "  '6\\nIntroducing \\nML Systems \\nArchitecture\\nIn this chapter, you will learn about general principles of Machine Learning (ML) systems \\narchitecture in the broader context of Software Engineering (SWE) and common issues \\nwith deploying models in production in a reliable way. Y ou will also have the opportunity \\nto follow along with architecting our ML systems. We will briefly look at how with \\nMLflow, in conjunction with other relevant tools, we can build reliable and scalable  \\nML platforms.\\nSpecifically,\\xa0we will look at the following\\xa0sections in this chapter:\\n• Understanding challenges with ML systems and projects\\n• Surveying state-of-the-art ML platforms\\n• Architecting the PsyStock ML platform\\nY ou will follow a process of understanding the problem, studying different solutions from \\nlead companies in the industry, and then developing your own relevant architecture. This \\nthree-step approach is transferrable to any future ML system that you want to develop.'],\n",
       " ['How will the community be engaged?',\n",
       "  '3\\nYour Data Science \\nWorkbench\\nIn this chapter, you will learn about MLflow in the context of creating a local environment \\nso that you can develop your machine learning project locally with the different features \\nprovided by MLflow. This chapter is focused on machine learning engineering, and one \\nof the most important roles of a machine learning engineer is to build up an environment \\nwhere model developers and practitioners can be efficient. We will also demonstrate a \\nhands-on example of how we can use workbenches to accomplish specific tasks.\\nSpecifically,\\xa0we will look at the following\\xa0topics in this chapter:\\xa0\\n• Understanding the value of a data science workbench\\n• Creating your own data science workbench\\n• Using the workbench for stock prediction']]"
      ]
     },
     "execution_count": 88,
     "metadata": {},
     "output_type": "execute_result"
    }
   ],
   "source": [
    "corpus"
   ]
  },
  {
   "cell_type": "code",
   "execution_count": 89,
   "metadata": {},
   "outputs": [
    {
     "data": {
      "text/plain": [
       "array([-10.804955, -10.873133, -10.049624, -11.220961, -11.122736,\n",
       "       -11.203314, -11.134064, -11.208071], dtype=float32)"
      ]
     },
     "execution_count": 89,
     "metadata": {},
     "output_type": "execute_result"
    }
   ],
   "source": [
    "reranker"
   ]
  },
  {
   "cell_type": "code",
   "execution_count": 85,
   "metadata": {},
   "outputs": [
    {
     "data": {
      "text/plain": [
       "array([2, 0, 1, 4, 6, 5, 7, 3], dtype=int64)"
      ]
     },
     "execution_count": 85,
     "metadata": {},
     "output_type": "execute_result"
    }
   ],
   "source": [
    "ranked_indices"
   ]
  },
  {
   "cell_type": "code",
   "execution_count": 86,
   "metadata": {},
   "outputs": [],
   "source": [
    "from langchain import hub\n",
    "prompt = hub.pull(\"rlm/rag-prompt\")"
   ]
  },
  {
   "cell_type": "code",
   "execution_count": 21,
   "metadata": {},
   "outputs": [
    {
     "data": {
      "text/plain": [
       "ChatPromptTemplate(input_variables=['context', 'question'], metadata={'lc_hub_owner': 'rlm', 'lc_hub_repo': 'rag-prompt', 'lc_hub_commit_hash': '50442af133e61576e74536c6556cefe1fac147cad032f4377b60c436e6cdcb6e'}, messages=[HumanMessagePromptTemplate(prompt=PromptTemplate(input_variables=['context', 'question'], template=\"You are an assistant for question-answering tasks. Use the following pieces of retrieved context to answer the question. If you don't know the answer, just say that you don't know. Use three sentences maximum and keep the answer concise.\\nQuestion: {question} \\nContext: {context} \\nAnswer:\"))])"
      ]
     },
     "execution_count": 21,
     "metadata": {},
     "output_type": "execute_result"
    }
   ],
   "source": [
    "prompt"
   ]
  },
  {
   "cell_type": "code",
   "execution_count": 26,
   "metadata": {},
   "outputs": [
    {
     "data": {
      "text/plain": [
       "[Document(page_content=\"224     \\nPackt is searching for authors like you\\nIf you're interested in becoming an author for Packt, please visit authors.\\npacktpub.com  and apply today. We have worked with thousands of developers and \\ntech professionals, just like you, to help them share their insight with the global tech \\ncommunity. Y ou can make a general application, apply for a specific hot topic that we are \\nrecruiting an author for, or submit your own idea.\\nShare Your Thoughts\\nNow you've finished Machine Learning Engineering with MLflow , we'd love to hear your \\nthoughts! Scan the QR code below to go straight to the Amazon review page for this book \\nand share your feedback or leave a review on the site that you purchased it from.\\nhttps://packt.link/r/1-800-56079-6\\nY our review is important to us and the tech community and will help us make sure we're \\ndelivering excellent quality content.\", metadata={'source': 'Natu Lauchande - Machine Learning Engineering with MLflow_ Manage the end-to-end machine learning life cycle with MLflow (2021, Packt Publishing) - libgen.li.pdf', 'page': 240}),\n",
       " Document(page_content='Architecting the PsyStock ML platform     115\\n• Model management: Not a specific tool for managing models but tools such as \\nMLflow can be added to cover the model management life cycle.\\n• Workflow management: Workflow management is leveraged through a specific \\ntool called Kubeflow Pipelines built on top of a generic pipeline tool for Kubernetes \\ncalled Argo Workflows. It allows multi-step pipelines to be built in code.\\nAfter looking at reference architectures, we will now spend time crafting our own, armed \\nwith the state-of-the-art knowledge available in the industry.\\nArchitecting the PsyStock ML platform\\nThere is a set of desirable tenets that we can define for our ML platform based on a \\ndistillation of the research on best practices and example reference architectures. The main \\ntenets that we want to maintain in our platform are the following:\\n• Leverage open systems and standards: Using open systems such as the ones \\navailable in MLflow allows longevity and flexibility to leverage the open source \\ncommunity advances and power to extend the company ML platform at a lower \\ncost.\\n• Favor  scalable solutions : A company needs to be prepared for a future surge in \\ngrowth; although this is the first version, the ability to surge on-demand from \\ntraining and perspective needs to be in place.\\n• Integrated  reliable data life cycle: Data is the center of gravity of the ML platform \\nand should be managed in a reliable and traceable manner at scale.\\n• Follow  SWE best practices: For example, separation of concerns, testability, CI/CD, \\nobservability, and modularity.\\n• Maintain vendor and cloud independence: PsyStock being a start-up is operating \\nin a very dynamic environment and in different geographies with access to different \\nclouds and, in some cases, with compliance requirements of not moving the \\ndata from the given geography. So, being cloud-agnostic and being able to have \\nworkloads in different environments is a competitive advantage.\\nThese tenets will allow us to frame our systems architecture within an open and low-cost \\nsolution for the company and allow the flexibility of running on the different systems \\non-premises, in the cloud, or local.\\nWe have previously defined the business requirements of the prediction use cases, namely \\ndetection of the movement of cryptocurrency and value prediction. To leverage this and \\nother use cases, the creation of an ML platform is critical to the company.', metadata={'source': 'Natu Lauchande - Machine Learning Engineering with MLflow_ Manage the end-to-end machine learning life cycle with MLflow (2021, Packt Publishing) - libgen.li.pdf', 'page': 131}),\n",
       " Document(page_content='118     Introducing ML Systems Architecture\\n5. Model management: Encapsulated by the component of Model Registry , which \\ncontains a store and the associated life cycles projects. The input comes primarily \\nfrom the training jobs and the data science workbench.\\n6. Workflow management: This is a component that allows the orchestration of \\nthe different systems. For example, it allows scheduling jobs and dependency \\nmanagement, enforcing the order of execution. For example, an inference batch \\njob can only be executed after a training job. This can be achieved through the \\noperating system using a Cron system or through more sophisticated workflow \\ntools such as Airflow.\\nWe will next briefly touch on how we will realize the ideas outlined in this section  \\nwith MLflow .\\nMLflow and other ecosystem tools\\nMLflow is a tool that was created by the open source community to address a gap in open \\nsystems for ML systems, focused on reproducibility, model management, and deployment. \\nMLflow is by no means a complete tool; it needs other components and is a central part of \\nan ML solution when its strengths are leveraged.\\nIn recent years, systems such as Kubeflow  have been emerging in the Kubernetes  \\nworld to help manage the infrastructure side of ML systems and being the actual \\ndeployment environment.\\nMinio is a storage system that ships with Kubeflow that will be used as an agnostic storage \\nmechanism for metadata and datasets and provides an abstraction for storage on both \\ncloud and local environments.\\nHaving identified best practices in the industry with regards to ML platforms, outlining \\nour requirements, and, in this section, architecting our ML platform, we will spend the \\nnext four chapters of the book building each of the components of our platform.\\nSummary\\nIn this chapter,\\xa0we introduced the concepts involved in architecting ML systems, \\nmapped stakeholders, identified common issues and best practices, and outlined the \\ninitial architecture. We identified critical building blocks of an ML systems architecture \\non the data layer and modeling and inference layer. The interconnection between the \\ncomponents was stressed and a specification of features was outlined.\\nWe also addressed how MLflow can be leveraged in your ML platform and the \\nshortcomings that can be complemented by other reference tools.', metadata={'source': 'Natu Lauchande - Machine Learning Engineering with MLflow_ Manage the end-to-end machine learning life cycle with MLflow (2021, Packt Publishing) - libgen.li.pdf', 'page': 134}),\n",
       " Document(page_content=\"Preface     xv\\nGet in touch\\nFeedback from our readers is always welcome.\\nGeneral feedback: If you have questions about any aspect of this book, email us at \\ncustomercare@packtpub.com and mention the book title in the subject of your message.\\nErrata: Although we have taken every care to ensure the accuracy of our content, mistakes \\ndo happen. If you have found a mistake in this book, we would be grateful if you would \\nreport this to us. Please visit www.packtpub.com/support/errata  and fill in  \\nthe form.\\nPiracy: If you come across any illegal copies of our works in any form on the internet, \\nwe would be grateful if you would provide us with the location address or website name. \\nPlease contact us at copyright@packt.com with a link to the material.\\nIf you are interested in becoming an author: If there is a topic that you have expertise  \\nin and you are interested in either writing or contributing to a book, please visit \\nauthors.packtpub.com .\\nShare Your Thoughts\\nOnce you've read Machine Learning Engineering with MLflow , we'd love to hear your \\nthoughts! Scan the QR code below to go straight to the Amazon review page for this  \\nbook and share your feedback.\\nhttps://packt.link/r/1-800-56079-6\\nY our review is important to us and the tech community and will help us make sure we're \\ndelivering excellent quality content.\", metadata={'source': 'Natu Lauchande - Machine Learning Engineering with MLflow_ Manage the end-to-end machine learning life cycle with MLflow (2021, Packt Publishing) - libgen.li.pdf', 'page': 15}),\n",
       " Document(page_content='174     Scaling Up Y our Machine Learning Workflow\\nYou  c an  see an overview of the cluster-creation process in the following screenshot:\\nFigure 10.2 – Creating a cluster in Databricks Community Edition\\n6. Create a new notebook in your Databricks platform on your landing workspace \\npage by clicking on the Create a Blank Notebook  button at the top right of the \\npage, as illustrated in the following screenshot:\\nFigure 10.3 – Creating a new notebook in Databricks Community Edition', metadata={'source': 'Natu Lauchande - Machine Learning Engineering with MLflow_ Manage the end-to-end machine learning life cycle with MLflow (2021, Packt Publishing) - libgen.li.pdf', 'page': 190}),\n",
       " Document(page_content='94     Managing Models with MLflow\\nIn the previous code block, the signature of the model is provided by the infer_\\nsignature method. As the model is logged through log_model , the signature is \\nprovided. One important advantage of the signatures being logged alongside the model \\nis that they can serve as documentation and metadata for the model. Third-party systems \\ncan consume the metadata and interact with the models by validating the data or \\ngenerating documentation for the models.\\nIn this section, we introduced the model schema and signature features of MLflow \\nmodels. We will now move on to the other critical module in this space, namely the  \\nModel Registry.\\nIntroducing Model Registry\\nMLflow Model Registry is a module in MLflow that comprises a centralized store for \\nModels, an API allowing the management of the life cycle of a model in a registry.\\nA typical workflow for a machine learning model developer is to acquire training data; \\nclean, process, and train models; and from there on, hand over to a system or person that \\ndeploys the models. In very small settings, where you have one person responsible for \\nthis function, it is quite trivial. Challenges and friction start to arise when the variety and \\nquantity of models in a team start to scale. A selection of common friction points raised \\nby machine learning developers with regards to storing and retrieving models follows:\\n• Collaboration in larger teams\\n• Phasing out stale models in production\\n• The provenance of a model\\n• A lack of documentation for models\\n• Identifying the correct version of a model\\n• How to integrate the model with deployment tools\\nThe main idea behind MLflow Model Registry is to provide a central store model in an \\norganization where all the relevant models are stored and can be accessed by humans and \\nsystems. A good analogy would be a Git repository for models with associated relevant \\nmetadata and centralized state management for models.', metadata={'source': 'Natu Lauchande - Machine Learning Engineering with MLflow_ Manage the end-to-end machine learning life cycle with MLflow (2021, Packt Publishing) - libgen.li.pdf', 'page': 110}),\n",
       " Document(page_content='6\\nIntroducing \\nML Systems \\nArchitecture\\nIn this chapter, you will learn about general principles of Machine Learning (ML) systems \\narchitecture in the broader context of Software Engineering (SWE) and common issues \\nwith deploying models in production in a reliable way. Y ou will also have the opportunity \\nto follow along with architecting our ML systems. We will briefly look at how with \\nMLflow, in conjunction with other relevant tools, we can build reliable and scalable  \\nML platforms.\\nSpecifically,\\xa0we will look at the following\\xa0sections in this chapter:\\n• Understanding challenges with ML systems and projects\\n• Surveying state-of-the-art ML platforms\\n• Architecting the PsyStock ML platform\\nY ou will follow a process of understanding the problem, studying different solutions from \\nlead companies in the industry, and then developing your own relevant architecture. This \\nthree-step approach is transferrable to any future ML system that you want to develop.', metadata={'source': 'Natu Lauchande - Machine Learning Engineering with MLflow_ Manage the end-to-end machine learning life cycle with MLflow (2021, Packt Publishing) - libgen.li.pdf', 'page': 121}),\n",
       " Document(page_content='3\\nYour Data Science \\nWorkbench\\nIn this chapter, you will learn about MLflow in the context of creating a local environment \\nso that you can develop your machine learning project locally with the different features \\nprovided by MLflow. This chapter is focused on machine learning engineering, and one \\nof the most important roles of a machine learning engineer is to build up an environment \\nwhere model developers and practitioners can be efficient. We will also demonstrate a \\nhands-on example of how we can use workbenches to accomplish specific tasks.\\nSpecifically,\\xa0we will look at the following\\xa0topics in this chapter:\\xa0\\n• Understanding the value of a data science workbench\\n• Creating your own data science workbench\\n• Using the workbench for stock prediction', metadata={'source': 'Natu Lauchande - Machine Learning Engineering with MLflow_ Manage the end-to-end machine learning life cycle with MLflow (2021, Packt Publishing) - libgen.li.pdf', 'page': 59})]"
      ]
     },
     "execution_count": 26,
     "metadata": {},
     "output_type": "execute_result"
    }
   ],
   "source": [
    "docs"
   ]
  },
  {
   "cell_type": "code",
   "execution_count": 30,
   "metadata": {},
   "outputs": [],
   "source": [
    "from langchain_openai import ChatOpenAI\n",
    "from langchain_core.output_parsers import StrOutputParser\n",
    "llm = ChatOpenAI(temperature=0,model_name=\"gpt-3.5-turbo\")\n",
    "llm_chain= ( prompt\n",
    "    | llm\n",
    "    | StrOutputParser()\n",
    ")"
   ]
  },
  {
   "cell_type": "code",
   "execution_count": 31,
   "metadata": {},
   "outputs": [
    {
     "data": {
      "text/plain": [
       "ChatPromptTemplate(input_variables=['context', 'question'], metadata={'lc_hub_owner': 'rlm', 'lc_hub_repo': 'rag-prompt', 'lc_hub_commit_hash': '50442af133e61576e74536c6556cefe1fac147cad032f4377b60c436e6cdcb6e'}, messages=[HumanMessagePromptTemplate(prompt=PromptTemplate(input_variables=['context', 'question'], template=\"You are an assistant for question-answering tasks. Use the following pieces of retrieved context to answer the question. If you don't know the answer, just say that you don't know. Use three sentences maximum and keep the answer concise.\\nQuestion: {question} \\nContext: {context} \\nAnswer:\"))])\n",
       "| ChatOpenAI(client=<openai.resources.chat.completions.Completions object at 0x000001DAFFEA8C80>, async_client=<openai.resources.chat.completions.AsyncCompletions object at 0x000001DAFFEAA960>, temperature=0.0, openai_api_key=SecretStr('**********'), openai_proxy='')\n",
       "| StrOutputParser()"
      ]
     },
     "execution_count": 31,
     "metadata": {},
     "output_type": "execute_result"
    }
   ],
   "source": [
    "llm_chain"
   ]
  },
  {
   "cell_type": "code",
   "execution_count": 41,
   "metadata": {},
   "outputs": [
    {
     "data": {
      "text/plain": [
       "'The community will be engaged by encouraging authors to share their insights with the global tech community through Packt. Authors can apply to write on specific hot topics or submit their own ideas. Feedback and reviews from readers are important for ensuring excellent quality content delivery.'"
      ]
     },
     "execution_count": 41,
     "metadata": {},
     "output_type": "execute_result"
    }
   ],
   "source": [
    "llm_chain.invoke({\"context\":docs[0].page_content, \"question\":\"How will the community be engaged?\"})"
   ]
  },
  {
   "cell_type": "code",
   "execution_count": null,
   "metadata": {},
   "outputs": [],
   "source": []
  },
  {
   "cell_type": "code",
   "execution_count": 95,
   "metadata": {},
   "outputs": [
    {
     "name": "stderr",
     "output_type": "stream",
     "text": [
      "<>:2: SyntaxWarning: invalid escape sequence '\\w'\n",
      "<>:2: SyntaxWarning: invalid escape sequence '\\w'\n",
      "C:\\Users\\shyams\\AppData\\Local\\Temp\\ipykernel_18844\\850560858.py:2: SyntaxWarning: invalid escape sequence '\\w'\n",
      "  df=pd.read_csv(\"testing\\where are you_feedback_.csv\")\n"
     ]
    }
   ],
   "source": [
    "import pandas as pd\n",
    "df=pd.read_csv(\"testing\\where are you_feedback_.csv\")"
   ]
  },
  {
   "cell_type": "code",
   "execution_count": 96,
   "metadata": {},
   "outputs": [
    {
     "data": {
      "text/html": [
       "<div>\n",
       "<style scoped>\n",
       "    .dataframe tbody tr th:only-of-type {\n",
       "        vertical-align: middle;\n",
       "    }\n",
       "\n",
       "    .dataframe tbody tr th {\n",
       "        vertical-align: top;\n",
       "    }\n",
       "\n",
       "    .dataframe thead th {\n",
       "        text-align: right;\n",
       "    }\n",
       "</style>\n",
       "<table border=\"1\" class=\"dataframe\">\n",
       "  <thead>\n",
       "    <tr style=\"text-align: right;\">\n",
       "      <th></th>\n",
       "      <th>question</th>\n",
       "      <th>context</th>\n",
       "      <th>score</th>\n",
       "      <th>reranker</th>\n",
       "    </tr>\n",
       "  </thead>\n",
       "  <tbody>\n",
       "    <tr>\n",
       "      <th>0</th>\n",
       "      <td>where are you</td>\n",
       "      <td>relevant elements of the context of your syste...</td>\n",
       "      <td>0</td>\n",
       "      <td>-7.830690</td>\n",
       "    </tr>\n",
       "    <tr>\n",
       "      <th>1</th>\n",
       "      <td>where are you</td>\n",
       "      <td>Shyam Sundar\\n5,kavimani steet, Pankajam colon...</td>\n",
       "      <td>0</td>\n",
       "      <td>-8.365195</td>\n",
       "    </tr>\n",
       "    <tr>\n",
       "      <th>2</th>\n",
       "      <td>where are you</td>\n",
       "      <td>or create by name. For each model, you can see...</td>\n",
       "      <td>0</td>\n",
       "      <td>-9.716761</td>\n",
       "    </tr>\n",
       "    <tr>\n",
       "      <th>3</th>\n",
       "      <td>where are you</td>\n",
       "      <td>If you are interested in becoming an author: I...</td>\n",
       "      <td>0</td>\n",
       "      <td>-9.743078</td>\n",
       "    </tr>\n",
       "    <tr>\n",
       "      <th>4</th>\n",
       "      <td>where are you</td>\n",
       "      <td>model packaging is to decouple the model type ...</td>\n",
       "      <td>0</td>\n",
       "      <td>-10.042582</td>\n",
       "    </tr>\n",
       "    <tr>\n",
       "      <th>5</th>\n",
       "      <td>where are you</td>\n",
       "      <td>in the current status.</td>\n",
       "      <td>0</td>\n",
       "      <td>-10.159994</td>\n",
       "    </tr>\n",
       "    <tr>\n",
       "      <th>6</th>\n",
       "      <td>where are you</td>\n",
       "      <td>deploy. In a case where your deployment is not...</td>\n",
       "      <td>0</td>\n",
       "      <td>-10.247551</td>\n",
       "    </tr>\n",
       "    <tr>\n",
       "      <th>7</th>\n",
       "      <td>where are you</td>\n",
       "      <td>Machine Learning \\nEngineering  \\nwith MLflow\\...</td>\n",
       "      <td>0</td>\n",
       "      <td>-10.516294</td>\n",
       "    </tr>\n",
       "    <tr>\n",
       "      <th>8</th>\n",
       "      <td>where are you</td>\n",
       "      <td>problem.</td>\n",
       "      <td>0</td>\n",
       "      <td>-10.605557</td>\n",
       "    </tr>\n",
       "    <tr>\n",
       "      <th>9</th>\n",
       "      <td>where are you</td>\n",
       "      <td>features .</td>\n",
       "      <td>0</td>\n",
       "      <td>-10.660493</td>\n",
       "    </tr>\n",
       "  </tbody>\n",
       "</table>\n",
       "</div>"
      ],
      "text/plain": [
       "        question                                            context  score  \\\n",
       "0  where are you  relevant elements of the context of your syste...      0   \n",
       "1  where are you  Shyam Sundar\\n5,kavimani steet, Pankajam colon...      0   \n",
       "2  where are you  or create by name. For each model, you can see...      0   \n",
       "3  where are you  If you are interested in becoming an author: I...      0   \n",
       "4  where are you  model packaging is to decouple the model type ...      0   \n",
       "5  where are you                             in the current status.      0   \n",
       "6  where are you  deploy. In a case where your deployment is not...      0   \n",
       "7  where are you  Machine Learning \\nEngineering  \\nwith MLflow\\...      0   \n",
       "8  where are you                                           problem.      0   \n",
       "9  where are you                                         features .      0   \n",
       "\n",
       "    reranker  \n",
       "0  -7.830690  \n",
       "1  -8.365195  \n",
       "2  -9.716761  \n",
       "3  -9.743078  \n",
       "4 -10.042582  \n",
       "5 -10.159994  \n",
       "6 -10.247551  \n",
       "7 -10.516294  \n",
       "8 -10.605557  \n",
       "9 -10.660493  "
      ]
     },
     "execution_count": 96,
     "metadata": {},
     "output_type": "execute_result"
    }
   ],
   "source": [
    "df"
   ]
  },
  {
   "cell_type": "code",
   "execution_count": null,
   "metadata": {},
   "outputs": [],
   "source": []
  }
 ],
 "metadata": {
  "kernelspec": {
   "display_name": ".venv",
   "language": "python",
   "name": "python3"
  },
  "language_info": {
   "codemirror_mode": {
    "name": "ipython",
    "version": 3
   },
   "file_extension": ".py",
   "mimetype": "text/x-python",
   "name": "python",
   "nbconvert_exporter": "python",
   "pygments_lexer": "ipython3",
   "version": "3.12.3"
  }
 },
 "nbformat": 4,
 "nbformat_minor": 2
}
