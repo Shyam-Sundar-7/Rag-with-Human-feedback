{
 "cells": [
  {
   "cell_type": "code",
   "execution_count": 1,
   "metadata": {},
   "outputs": [],
   "source": [
    "from dotenv import load_dotenv\n",
    "\n",
    "load_dotenv()\n",
    "\n",
    "from langchain_community.document_loaders import PyPDFLoader\n",
    "\n",
    "loader = PyPDFLoader(\"data/Shyam_Sundar_Single_Page_Resume.pdf\")\n",
    "pages = loader.load_and_split()"
   ]
  },
  {
   "cell_type": "code",
   "execution_count": 2,
   "metadata": {},
   "outputs": [
    {
     "data": {
      "text/plain": [
       "1"
      ]
     },
     "execution_count": 2,
     "metadata": {},
     "output_type": "execute_result"
    }
   ],
   "source": [
    "len(pages)"
   ]
  },
  {
   "cell_type": "code",
   "execution_count": 3,
   "metadata": {},
   "outputs": [
    {
     "name": "stdout",
     "output_type": "stream",
     "text": [
      "0: Shyam Sundar\n",
      "5,kavimani steet, Pankajam colony, 3rd cross street, Madurai, India - 625009\n",
      "♂phone+91-9080765574 /envel⌢pemailshyamsundar.2022@gmail.com /linkedinshyamsundar007 /githubShyam-Sundar-7♂laptopPortfolio\n",
      "Projects\n",
      "LLM-Powered Coupon Recommender /github/video |Python, Streamlit, Langchain, Op\n",
      "\n",
      "\n",
      "\n"
     ]
    }
   ],
   "source": [
    "from langchain_community.vectorstores import FAISS\n",
    "from langchain_openai import OpenAIEmbeddings\n",
    "\n",
    "Faiss_retriever = FAISS.from_documents(pages, OpenAIEmbeddings())\n",
    "Faiss_retriever=Faiss_retriever.as_retriever(search_kwargs={\"k\": 5})\n",
    "docs = Faiss_retriever.invoke(\"How will the community be engaged?\")\n",
    "for doc in docs:\n",
    "    print(str(doc.metadata[\"page\"]) + \":\", doc.page_content[:300])\n",
    "    print(\"\\n\\n\")"
   ]
  },
  {
   "cell_type": "code",
   "execution_count": 4,
   "metadata": {},
   "outputs": [
    {
     "data": {
      "text/plain": [
       "1"
      ]
     },
     "execution_count": 4,
     "metadata": {},
     "output_type": "execute_result"
    }
   ],
   "source": [
    "len(docs)"
   ]
  },
  {
   "cell_type": "code",
   "execution_count": 5,
   "metadata": {},
   "outputs": [],
   "source": [
    "from langchain_community.retrievers import BM25Retriever\n",
    "Bm25_retriever=BM25Retriever.from_documents(pages)\n",
    "Bm25_retriever.k=5\n",
    "bmdocs=Bm25_retriever.invoke(\"How will the community be engaged?\")"
   ]
  },
  {
   "cell_type": "code",
   "execution_count": 6,
   "metadata": {},
   "outputs": [
    {
     "name": "stdout",
     "output_type": "stream",
     "text": [
      "0: Shyam Sundar\n",
      "5,kavimani steet, Pankajam colony, 3rd cross street, Madurai, India - 625009\n",
      "♂phone+91-9080765574 /envel⌢pemailshyamsundar.2022@gmail.com /linkedinshyamsundar007 /githubShyam-Sundar-7♂laptopPortfolio\n",
      "Projects\n",
      "LLM-Powered Coupon Recommender /github/video |Python, Streamlit, Langchain, Op\n",
      "\n",
      "\n",
      "\n"
     ]
    }
   ],
   "source": [
    "for doc in bmdocs:\n",
    "    print(str(doc.metadata[\"page\"]) + \":\", doc.page_content[:300])\n",
    "    print(\"\\n\\n\")"
   ]
  },
  {
   "cell_type": "code",
   "execution_count": 7,
   "metadata": {},
   "outputs": [],
   "source": [
    "from langchain.retrievers import EnsembleRetriever\n",
    "# initialize the ensemble retriever\n",
    "ensemble_retriever = EnsembleRetriever(\n",
    "    retrievers=[Bm25_retriever, Faiss_retriever], weights=[0.5, 0.5]\n",
    ")"
   ]
  },
  {
   "cell_type": "code",
   "execution_count": 8,
   "metadata": {},
   "outputs": [
    {
     "data": {
      "text/plain": [
       "[Document(page_content='Shyam Sundar\\n5,kavimani steet, Pankajam colony, 3rd cross street, Madurai, India - 625009\\n♂phone+91-9080765574 /envel⌢pemailshyamsundar.2022@gmail.com /linkedinshyamsundar007 /githubShyam-Sundar-7♂laptopPortfolio\\nProjects\\nLLM-Powered Coupon Recommender /github/video |Python, Streamlit, Langchain, OpenAI November 2023\\n•Developed a QA system for e-commerce with personalized coupon recommendations using OpenAI’s LLMs.\\n•Streamlined user interactions through a Streamlit interface and Langchain for real-world scenario simulations.\\n•Incorporated FAISS for refined recommendation processes.\\nPeopleCare Insurance Prediction /github |Python, Jupyter, Azure Cloud, Flask, Docker October 2023\\n•Expanded PeopleCare into vehicle insurance with a predictive model for effective customer targeting.\\n•Thorough analysis of customer behavior and data cleaning for accurate predictive modeling.\\n•Achieved 80% prediction accuracy using LightGBM.\\nHate Speech Prediction /github |Python, Pytorch Lightning, Flask, Docker October 2023\\n•Developed a robust hate speech detection algorithm for content filtration.\\n•Attained 91.95% accuracy with fine-tuned pre-existing Bert model.\\n•Executed model deployment via Flask and Docker for scalability.\\nMachine Failure Prediction /github |Azure Machine Learning September 2023\\n•Conducted an extensive investigation of a Milling machine to enhance operational reliability.\\n•Conceived 97% recall rate for predicting machine failures using logistic regression and SMOTE.\\n•Managed in Azure Designer for comprehensive data analysis and predictive modeling.\\nData Driven Model for Anomaly Detection and Path Prediction |Python, Deep Learning July 2022 - April 2023\\n•Investigated and improved AIS for cargo vessel anomaly detection and path prediction.\\n•Formulated a statistical method for robust anomaly detection.\\n•Engineered a path prediction algorithm using a sequence-to-sequence model with an attention mechanism.\\nFederated Learning on Multiclass classification |Python, Deep Learning, Jupyter Notebook June 2022 - July 2022\\n•Utilized the CIFAR dataset for training, involving 20 client nodes with training activities based on the VGG-19 model.\\n•Central global model collected weight updates from six randomly selected client models, averaging the contributions, and\\ndisseminated the updated global model to all participating clients.\\n•Effected a commendable accuracy rate of 78% upon successful completion of the training process, demonstrating the effectiveness\\nof the federated learning approach in preserving data security and privacy while maintaining model performance.\\nEducation\\nDefence Institute of Advanced Technology Pune, IN\\nM.Tech in Modelling and Simulation, GPA: 7.95 May 2023\\nNational Institute of Technology Tiruchirappalli, IN\\nB.Tech in Chemical Engineering, GPA: 7.65 May 2021\\nRelevant Coursework\\n•Data Structures\\n•Advanced Numerical Techniques•Machine Learning\\n•Data Science•Deep Learning\\n•Computer Graphics\\nTechnical Skills\\nLanguages : Python, C/C++, SQL (Postgres), Matlab, Latex\\nFrameworks : Pytorch, Tensorflow, Flask, Pytorch Lightning\\nTools/Platform : Tableau, Power Bi, Azure, Git, Jupyter, Docker\\nLibraries : Scikit-Learn, Pandas, Numpy, Matplotlib, Seaborn\\nCertifications\\n•Certified Associate Data Analyst\\n•SQL [Advanced] - Hackerank\\n•Management Consulting Mentorship\\n•Generative AI at SAP•ML for Business professionals using No-Code AI tools\\n•Python [Basic] - Hackerank\\n•Software Engineer Intern -Hackerank\\nPublications\\nSuspicious Event Detection of Cargo Vessels Based on AIS Data at ICDMAI,2023', metadata={'source': 'data/Shyam_Sundar_Single_Page_Resume.pdf', 'page': 0})]"
      ]
     },
     "execution_count": 8,
     "metadata": {},
     "output_type": "execute_result"
    }
   ],
   "source": [
    "docs = ensemble_retriever.invoke(\"How will the community be engaged?\")\n",
    "docs"
   ]
  },
  {
   "cell_type": "code",
   "execution_count": 9,
   "metadata": {},
   "outputs": [
    {
     "data": {
      "text/plain": [
       "1"
      ]
     },
     "execution_count": 9,
     "metadata": {},
     "output_type": "execute_result"
    }
   ],
   "source": [
    "len(docs)"
   ]
  },
  {
   "cell_type": "code",
   "execution_count": 10,
   "metadata": {},
   "outputs": [
    {
     "name": "stdout",
     "output_type": "stream",
     "text": [
      "page_content='Shyam Sundar\\n5,kavimani steet, Pankajam colony, 3rd cross street, Madurai, India - 625009\\n♂phone+91-9080765574 /envel⌢pemailshyamsundar.2022@gmail.com /linkedinshyamsundar007 /githubShyam-Sundar-7♂laptopPortfolio\\nProjects\\nLLM-Powered Coupon Recommender /github/video |Python, Streamlit, Langchain, OpenAI November 2023\\n•Developed a QA system for e-commerce with personalized coupon recommendations using OpenAI’s LLMs.\\n•Streamlined user interactions through a Streamlit interface and Langchain for real-world scenario simulations.\\n•Incorporated FAISS for refined recommendation processes.\\nPeopleCare Insurance Prediction /github |Python, Jupyter, Azure Cloud, Flask, Docker October 2023\\n•Expanded PeopleCare into vehicle insurance with a predictive model for effective customer targeting.\\n•Thorough analysis of customer behavior and data cleaning for accurate predictive modeling.\\n•Achieved 80% prediction accuracy using LightGBM.\\nHate Speech Prediction /github |Python, Pytorch Lightning, Flask, Docker October 2023\\n•Developed a robust hate speech detection algorithm for content filtration.\\n•Attained 91.95% accuracy with fine-tuned pre-existing Bert model.\\n•Executed model deployment via Flask and Docker for scalability.\\nMachine Failure Prediction /github |Azure Machine Learning September 2023\\n•Conducted an extensive investigation of a Milling machine to enhance operational reliability.\\n•Conceived 97% recall rate for predicting machine failures using logistic regression and SMOTE.\\n•Managed in Azure Designer for comprehensive data analysis and predictive modeling.\\nData Driven Model for Anomaly Detection and Path Prediction |Python, Deep Learning July 2022 - April 2023\\n•Investigated and improved AIS for cargo vessel anomaly detection and path prediction.\\n•Formulated a statistical method for robust anomaly detection.\\n•Engineered a path prediction algorithm using a sequence-to-sequence model with an attention mechanism.\\nFederated Learning on Multiclass classification |Python, Deep Learning, Jupyter Notebook June 2022 - July 2022\\n•Utilized the CIFAR dataset for training, involving 20 client nodes with training activities based on the VGG-19 model.\\n•Central global model collected weight updates from six randomly selected client models, averaging the contributions, and\\ndisseminated the updated global model to all participating clients.\\n•Effected a commendable accuracy rate of 78% upon successful completion of the training process, demonstrating the effectiveness\\nof the federated learning approach in preserving data security and privacy while maintaining model performance.\\nEducation\\nDefence Institute of Advanced Technology Pune, IN\\nM.Tech in Modelling and Simulation, GPA: 7.95 May 2023\\nNational Institute of Technology Tiruchirappalli, IN\\nB.Tech in Chemical Engineering, GPA: 7.65 May 2021\\nRelevant Coursework\\n•Data Structures\\n•Advanced Numerical Techniques•Machine Learning\\n•Data Science•Deep Learning\\n•Computer Graphics\\nTechnical Skills\\nLanguages : Python, C/C++, SQL (Postgres), Matlab, Latex\\nFrameworks : Pytorch, Tensorflow, Flask, Pytorch Lightning\\nTools/Platform : Tableau, Power Bi, Azure, Git, Jupyter, Docker\\nLibraries : Scikit-Learn, Pandas, Numpy, Matplotlib, Seaborn\\nCertifications\\n•Certified Associate Data Analyst\\n•SQL [Advanced] - Hackerank\\n•Management Consulting Mentorship\\n•Generative AI at SAP•ML for Business professionals using No-Code AI tools\\n•Python [Basic] - Hackerank\\n•Software Engineer Intern -Hackerank\\nPublications\\nSuspicious Event Detection of Cargo Vessels Based on AIS Data at ICDMAI,2023' metadata={'source': 'data/Shyam_Sundar_Single_Page_Resume.pdf', 'page': 0}\n"
     ]
    }
   ],
   "source": [
    "for doc in docs:\n",
    "    # print(str(doc.page_content[:300]))\n",
    "    print(doc)\n",
    "    # print(\"\\n\\n\")"
   ]
  },
  {
   "cell_type": "code",
   "execution_count": 11,
   "metadata": {},
   "outputs": [
    {
     "data": {
      "text/plain": [
       "'Shyam Sundar\\n5,kavimani steet, Pankajam colony, 3rd cross street, Madurai, India - 625009\\n♂phone+91-9080765574 /envel⌢pemailshyamsundar.2022@gmail.com /linkedinshyamsundar007 /githubShyam-Sundar-7♂laptopPortfolio\\nProjects\\nLLM-Powered Coupon Recommender /github/video |Python, Streamlit, Langchain, OpenAI November 2023\\n•Developed a QA system for e-commerce with personalized coupon recommendations using OpenAI’s LLMs.\\n•Streamlined user interactions through a Streamlit interface and Langchain for real-world scenario simulations.\\n•Incorporated FAISS for refined recommendation processes.\\nPeopleCare Insurance Prediction /github |Python, Jupyter, Azure Cloud, Flask, Docker October 2023\\n•Expanded PeopleCare into vehicle insurance with a predictive model for effective customer targeting.\\n•Thorough analysis of customer behavior and data cleaning for accurate predictive modeling.\\n•Achieved 80% prediction accuracy using LightGBM.\\nHate Speech Prediction /github |Python, Pytorch Lightning, Flask, Docker October 2023\\n•Developed a robust hate speech detection algorithm for content filtration.\\n•Attained 91.95% accuracy with fine-tuned pre-existing Bert model.\\n•Executed model deployment via Flask and Docker for scalability.\\nMachine Failure Prediction /github |Azure Machine Learning September 2023\\n•Conducted an extensive investigation of a Milling machine to enhance operational reliability.\\n•Conceived 97% recall rate for predicting machine failures using logistic regression and SMOTE.\\n•Managed in Azure Designer for comprehensive data analysis and predictive modeling.\\nData Driven Model for Anomaly Detection and Path Prediction |Python, Deep Learning July 2022 - April 2023\\n•Investigated and improved AIS for cargo vessel anomaly detection and path prediction.\\n•Formulated a statistical method for robust anomaly detection.\\n•Engineered a path prediction algorithm using a sequence-to-sequence model with an attention mechanism.\\nFederated Learning on Multiclass classification |Python, Deep Learning, Jupyter Notebook June 2022 - July 2022\\n•Utilized the CIFAR dataset for training, involving 20 client nodes with training activities based on the VGG-19 model.\\n•Central global model collected weight updates from six randomly selected client models, averaging the contributions, and\\ndisseminated the updated global model to all participating clients.\\n•Effected a commendable accuracy rate of 78% upon successful completion of the training process, demonstrating the effectiveness\\nof the federated learning approach in preserving data security and privacy while maintaining model performance.\\nEducation\\nDefence Institute of Advanced Technology Pune, IN\\nM.Tech in Modelling and Simulation, GPA: 7.95 May 2023\\nNational Institute of Technology Tiruchirappalli, IN\\nB.Tech in Chemical Engineering, GPA: 7.65 May 2021\\nRelevant Coursework\\n•Data Structures\\n•Advanced Numerical Techniques•Machine Learning\\n•Data Science•Deep Learning\\n•Computer Graphics\\nTechnical Skills\\nLanguages : Python, C/C++, SQL (Postgres), Matlab, Latex\\nFrameworks : Pytorch, Tensorflow, Flask, Pytorch Lightning\\nTools/Platform : Tableau, Power Bi, Azure, Git, Jupyter, Docker\\nLibraries : Scikit-Learn, Pandas, Numpy, Matplotlib, Seaborn\\nCertifications\\n•Certified Associate Data Analyst\\n•SQL [Advanced] - Hackerank\\n•Management Consulting Mentorship\\n•Generative AI at SAP•ML for Business professionals using No-Code AI tools\\n•Python [Basic] - Hackerank\\n•Software Engineer Intern -Hackerank\\nPublications\\nSuspicious Event Detection of Cargo Vessels Based on AIS Data at ICDMAI,2023'"
      ]
     },
     "execution_count": 11,
     "metadata": {},
     "output_type": "execute_result"
    }
   ],
   "source": [
    "docs[0].page_content"
   ]
  },
  {
   "cell_type": "code",
   "execution_count": 12,
   "metadata": {},
   "outputs": [
    {
     "name": "stdout",
     "output_type": "stream",
     "text": [
      "Shyam Sundar\n",
      "5,kavimani steet, Pankajam colony, 3rd cross street, Madurai, India - 625009\n",
      "♂phone+91-9080765574 /envel⌢pemailshyamsundar.2022@gmail.com /linkedinshyamsundar007 /githubShyam-Sundar-7♂laptopPortfolio\n",
      "Projects\n",
      "LLM-Powered Coupon Recommender /github/video |Python, Streamlit, Langchain, OpenAI November 2023\n",
      "•Developed a QA system for e-commerce with personalized coupon recommendations using OpenAI’s LLMs.\n",
      "•Streamlined user interactions through a Streamlit interface and Langchain for real-world scenario simulations.\n",
      "•Incorporated FAISS for refined recommendation processes.\n",
      "PeopleCare Insurance Prediction /github |Python, Jupyter, Azure Cloud, Flask, Docker October 2023\n",
      "•Expanded PeopleCare into vehicle insurance with a predictive model for effective customer targeting.\n",
      "•Thorough analysis of customer behavior and data cleaning for accurate predictive modeling.\n",
      "•Achieved 80% prediction accuracy using LightGBM.\n",
      "Hate Speech Prediction /github |Python, Pytorch Lightning, Flask, Docker October 2023\n",
      "•Developed a robust hate speech detection algorithm for content filtration.\n",
      "•Attained 91.95% accuracy with fine-tuned pre-existing Bert model.\n",
      "•Executed model deployment via Flask and Docker for scalability.\n",
      "Machine Failure Prediction /github |Azure Machine Learning September 2023\n",
      "•Conducted an extensive investigation of a Milling machine to enhance operational reliability.\n",
      "•Conceived 97% recall rate for predicting machine failures using logistic regression and SMOTE.\n",
      "•Managed in Azure Designer for comprehensive data analysis and predictive modeling.\n",
      "Data Driven Model for Anomaly Detection and Path Prediction |Python, Deep Learning July 2022 - April 2023\n",
      "•Investigated and improved AIS for cargo vessel anomaly detection and path prediction.\n",
      "•Formulated a statistical method for robust anomaly detection.\n",
      "•Engineered a path prediction algorithm using a sequence-to-sequence model with an attention mechanism.\n",
      "Federated Learning on Multiclass classification |Python, Deep Learning, Jupyter Notebook June 2022 - July 2022\n",
      "•Utilized the CIFAR dataset for training, involving 20 client nodes with training activities based on the VGG-19 model.\n",
      "•Central global model collected weight updates from six randomly selected client models, averaging the contributions, and\n",
      "disseminated the updated global model to all participating clients.\n",
      "•Effected a commendable accuracy rate of 78% upon successful completion of the training process, demonstrating the effectiveness\n",
      "of the federated learning approach in preserving data security and privacy while maintaining model performance.\n",
      "Education\n",
      "Defence Institute of Advanced Technology Pune, IN\n",
      "M.Tech in Modelling and Simulation, GPA: 7.95 May 2023\n",
      "National Institute of Technology Tiruchirappalli, IN\n",
      "B.Tech in Chemical Engineering, GPA: 7.65 May 2021\n",
      "Relevant Coursework\n",
      "•Data Structures\n",
      "•Advanced Numerical Techniques•Machine Learning\n",
      "•Data Science•Deep Learning\n",
      "•Computer Graphics\n",
      "Technical Skills\n",
      "Languages : Python, C/C++, SQL (Postgres), Matlab, Latex\n",
      "Frameworks : Pytorch, Tensorflow, Flask, Pytorch Lightning\n",
      "Tools/Platform : Tableau, Power Bi, Azure, Git, Jupyter, Docker\n",
      "Libraries : Scikit-Learn, Pandas, Numpy, Matplotlib, Seaborn\n",
      "Certifications\n",
      "•Certified Associate Data Analyst\n",
      "•SQL [Advanced] - Hackerank\n",
      "•Management Consulting Mentorship\n",
      "•Generative AI at SAP•ML for Business professionals using No-Code AI tools\n",
      "•Python [Basic] - Hackerank\n",
      "•Software Engineer Intern -Hackerank\n",
      "Publications\n",
      "Suspicious Event Detection of Cargo Vessels Based on AIS Data at ICDMAI,2023\n"
     ]
    }
   ],
   "source": [
    "for doc in docs:\n",
    "    print(doc.page_content)"
   ]
  },
  {
   "cell_type": "code",
   "execution_count": null,
   "metadata": {},
   "outputs": [],
   "source": []
  },
  {
   "cell_type": "code",
   "execution_count": null,
   "metadata": {},
   "outputs": [],
   "source": []
  },
  {
   "cell_type": "code",
   "execution_count": 13,
   "metadata": {},
   "outputs": [],
   "source": [
    "corpus = [[\"How will the community be engaged?\", doc.page_content] for doc in docs]\n",
    "import numpy as np\n",
    "# from sentence_transformers import CrossEncoder\n",
    "# model = CrossEncoder(\"cross-encoder/ms-marco-MiniLM-L-6-v2\")\n",
    "# reranker=model.predict(corpus)\n",
    "# # Sort the scores in decreasing order to get the corpus indices\n",
    "# ranked_indices = np.argsort(reranker)[::-1]"
   ]
  },
  {
   "cell_type": "code",
   "execution_count": 14,
   "metadata": {},
   "outputs": [
    {
     "data": {
      "text/plain": [
       "[['How will the community be engaged?',\n",
       "  'Shyam Sundar\\n5,kavimani steet, Pankajam colony, 3rd cross street, Madurai, India - 625009\\n♂phone+91-9080765574 /envel⌢pemailshyamsundar.2022@gmail.com /linkedinshyamsundar007 /githubShyam-Sundar-7♂laptopPortfolio\\nProjects\\nLLM-Powered Coupon Recommender /github/video |Python, Streamlit, Langchain, OpenAI November 2023\\n•Developed a QA system for e-commerce with personalized coupon recommendations using OpenAI’s LLMs.\\n•Streamlined user interactions through a Streamlit interface and Langchain for real-world scenario simulations.\\n•Incorporated FAISS for refined recommendation processes.\\nPeopleCare Insurance Prediction /github |Python, Jupyter, Azure Cloud, Flask, Docker October 2023\\n•Expanded PeopleCare into vehicle insurance with a predictive model for effective customer targeting.\\n•Thorough analysis of customer behavior and data cleaning for accurate predictive modeling.\\n•Achieved 80% prediction accuracy using LightGBM.\\nHate Speech Prediction /github |Python, Pytorch Lightning, Flask, Docker October 2023\\n•Developed a robust hate speech detection algorithm for content filtration.\\n•Attained 91.95% accuracy with fine-tuned pre-existing Bert model.\\n•Executed model deployment via Flask and Docker for scalability.\\nMachine Failure Prediction /github |Azure Machine Learning September 2023\\n•Conducted an extensive investigation of a Milling machine to enhance operational reliability.\\n•Conceived 97% recall rate for predicting machine failures using logistic regression and SMOTE.\\n•Managed in Azure Designer for comprehensive data analysis and predictive modeling.\\nData Driven Model for Anomaly Detection and Path Prediction |Python, Deep Learning July 2022 - April 2023\\n•Investigated and improved AIS for cargo vessel anomaly detection and path prediction.\\n•Formulated a statistical method for robust anomaly detection.\\n•Engineered a path prediction algorithm using a sequence-to-sequence model with an attention mechanism.\\nFederated Learning on Multiclass classification |Python, Deep Learning, Jupyter Notebook June 2022 - July 2022\\n•Utilized the CIFAR dataset for training, involving 20 client nodes with training activities based on the VGG-19 model.\\n•Central global model collected weight updates from six randomly selected client models, averaging the contributions, and\\ndisseminated the updated global model to all participating clients.\\n•Effected a commendable accuracy rate of 78% upon successful completion of the training process, demonstrating the effectiveness\\nof the federated learning approach in preserving data security and privacy while maintaining model performance.\\nEducation\\nDefence Institute of Advanced Technology Pune, IN\\nM.Tech in Modelling and Simulation, GPA: 7.95 May 2023\\nNational Institute of Technology Tiruchirappalli, IN\\nB.Tech in Chemical Engineering, GPA: 7.65 May 2021\\nRelevant Coursework\\n•Data Structures\\n•Advanced Numerical Techniques•Machine Learning\\n•Data Science•Deep Learning\\n•Computer Graphics\\nTechnical Skills\\nLanguages : Python, C/C++, SQL (Postgres), Matlab, Latex\\nFrameworks : Pytorch, Tensorflow, Flask, Pytorch Lightning\\nTools/Platform : Tableau, Power Bi, Azure, Git, Jupyter, Docker\\nLibraries : Scikit-Learn, Pandas, Numpy, Matplotlib, Seaborn\\nCertifications\\n•Certified Associate Data Analyst\\n•SQL [Advanced] - Hackerank\\n•Management Consulting Mentorship\\n•Generative AI at SAP•ML for Business professionals using No-Code AI tools\\n•Python [Basic] - Hackerank\\n•Software Engineer Intern -Hackerank\\nPublications\\nSuspicious Event Detection of Cargo Vessels Based on AIS Data at ICDMAI,2023']]"
      ]
     },
     "execution_count": 14,
     "metadata": {},
     "output_type": "execute_result"
    }
   ],
   "source": [
    "corpus"
   ]
  },
  {
   "cell_type": "code",
   "execution_count": 15,
   "metadata": {},
   "outputs": [
    {
     "ename": "",
     "evalue": "",
     "output_type": "error",
     "traceback": [
      "\u001b[1;31mThe Kernel crashed while executing code in the current cell or a previous cell. \n",
      "\u001b[1;31mPlease review the code in the cell(s) to identify a possible cause of the failure. \n",
      "\u001b[1;31mClick <a href='https://aka.ms/vscodeJupyterKernelCrash'>here</a> for more info. \n",
      "\u001b[1;31mView Jupyter <a href='command:jupyter.viewOutput'>log</a> for further details."
     ]
    }
   ],
   "source": [
    "from sentence_transformers import CrossEncoder"
   ]
  },
  {
   "cell_type": "code",
   "execution_count": null,
   "metadata": {},
   "outputs": [
    {
     "ename": "",
     "evalue": "",
     "output_type": "error",
     "traceback": [
      "\u001b[1;31mThe Kernel crashed while executing code in the current cell or a previous cell. \n",
      "\u001b[1;31mPlease review the code in the cell(s) to identify a possible cause of the failure. \n",
      "\u001b[1;31mClick <a href='https://aka.ms/vscodeJupyterKernelCrash'>here</a> for more info. \n",
      "\u001b[1;31mView Jupyter <a href='command:jupyter.viewOutput'>log</a> for further details."
     ]
    }
   ],
   "source": [
    "from sentence_transformers import CrossEncoder\n",
    "model = CrossEncoder(\"cross-encoder/ms-marco-MiniLM-L-6-v2\")\n",
    "reranker=model.predict(corpus)\n",
    "# Sort the scores in decreasing order to get the corpus indices\n",
    "ranked_indices = np.argsort(reranker)[::-1]"
   ]
  },
  {
   "cell_type": "code",
   "execution_count": 16,
   "metadata": {},
   "outputs": [
    {
     "ename": "NameError",
     "evalue": "name 'reranker' is not defined",
     "output_type": "error",
     "traceback": [
      "\u001b[1;31m---------------------------------------------------------------------------\u001b[0m",
      "\u001b[1;31mNameError\u001b[0m                                 Traceback (most recent call last)",
      "Cell \u001b[1;32mIn[16], line 1\u001b[0m\n\u001b[1;32m----> 1\u001b[0m \u001b[43mreranker\u001b[49m\n",
      "\u001b[1;31mNameError\u001b[0m: name 'reranker' is not defined"
     ]
    }
   ],
   "source": [
    "reranker"
   ]
  },
  {
   "cell_type": "code",
   "execution_count": null,
   "metadata": {},
   "outputs": [
    {
     "data": {
      "text/plain": [
       "array([0], dtype=int64)"
      ]
     },
     "execution_count": 22,
     "metadata": {},
     "output_type": "execute_result"
    },
    {
     "ename": "",
     "evalue": "",
     "output_type": "error",
     "traceback": [
      "\u001b[1;31mnotebook controller is DISPOSED. \n",
      "\u001b[1;31mView Jupyter <a href='command:jupyter.viewOutput'>log</a> for further details."
     ]
    },
    {
     "ename": "",
     "evalue": "",
     "output_type": "error",
     "traceback": [
      "\u001b[1;31mnotebook controller is DISPOSED. \n",
      "\u001b[1;31mView Jupyter <a href='command:jupyter.viewOutput'>log</a> for further details."
     ]
    }
   ],
   "source": [
    "ranked_indices"
   ]
  },
  {
   "cell_type": "code",
   "execution_count": null,
   "metadata": {},
   "outputs": [
    {
     "ename": "",
     "evalue": "",
     "output_type": "error",
     "traceback": [
      "\u001b[1;31mnotebook controller is DISPOSED. \n",
      "\u001b[1;31mView Jupyter <a href='command:jupyter.viewOutput'>log</a> for further details."
     ]
    },
    {
     "ename": "",
     "evalue": "",
     "output_type": "error",
     "traceback": [
      "\u001b[1;31mnotebook controller is DISPOSED. \n",
      "\u001b[1;31mView Jupyter <a href='command:jupyter.viewOutput'>log</a> for further details."
     ]
    }
   ],
   "source": [
    "from langchain import hub\n",
    "prompt = hub.pull(\"rlm/rag-prompt\")"
   ]
  },
  {
   "cell_type": "code",
   "execution_count": null,
   "metadata": {},
   "outputs": [
    {
     "data": {
      "text/plain": [
       "ChatPromptTemplate(input_variables=['context', 'question'], metadata={'lc_hub_owner': 'rlm', 'lc_hub_repo': 'rag-prompt', 'lc_hub_commit_hash': '50442af133e61576e74536c6556cefe1fac147cad032f4377b60c436e6cdcb6e'}, messages=[HumanMessagePromptTemplate(prompt=PromptTemplate(input_variables=['context', 'question'], template=\"You are an assistant for question-answering tasks. Use the following pieces of retrieved context to answer the question. If you don't know the answer, just say that you don't know. Use three sentences maximum and keep the answer concise.\\nQuestion: {question} \\nContext: {context} \\nAnswer:\"))])"
      ]
     },
     "execution_count": 24,
     "metadata": {},
     "output_type": "execute_result"
    },
    {
     "ename": "",
     "evalue": "",
     "output_type": "error",
     "traceback": [
      "\u001b[1;31mnotebook controller is DISPOSED. \n",
      "\u001b[1;31mView Jupyter <a href='command:jupyter.viewOutput'>log</a> for further details."
     ]
    },
    {
     "ename": "",
     "evalue": "",
     "output_type": "error",
     "traceback": [
      "\u001b[1;31mnotebook controller is DISPOSED. \n",
      "\u001b[1;31mView Jupyter <a href='command:jupyter.viewOutput'>log</a> for further details."
     ]
    }
   ],
   "source": [
    "prompt"
   ]
  },
  {
   "cell_type": "code",
   "execution_count": null,
   "metadata": {},
   "outputs": [
    {
     "data": {
      "text/plain": [
       "[Document(page_content='Shyam Sundar\\n5,kavimani steet, Pankajam colony, 3rd cross street, Madurai, India - 625009\\n♂phone+91-9080765574 /envel⌢pemailshyamsundar.2022@gmail.com /linkedinshyamsundar007 /githubShyam-Sundar-7♂laptopPortfolio\\nProjects\\nLLM-Powered Coupon Recommender /github/video |Python, Streamlit, Langchain, OpenAI November 2023\\n•Developed a QA system for e-commerce with personalized coupon recommendations using OpenAI’s LLMs.\\n•Streamlined user interactions through a Streamlit interface and Langchain for real-world scenario simulations.\\n•Incorporated FAISS for refined recommendation processes.\\nPeopleCare Insurance Prediction /github |Python, Jupyter, Azure Cloud, Flask, Docker October 2023\\n•Expanded PeopleCare into vehicle insurance with a predictive model for effective customer targeting.\\n•Thorough analysis of customer behavior and data cleaning for accurate predictive modeling.\\n•Achieved 80% prediction accuracy using LightGBM.\\nHate Speech Prediction /github |Python, Pytorch Lightning, Flask, Docker October 2023\\n•Developed a robust hate speech detection algorithm for content filtration.\\n•Attained 91.95% accuracy with fine-tuned pre-existing Bert model.\\n•Executed model deployment via Flask and Docker for scalability.\\nMachine Failure Prediction /github |Azure Machine Learning September 2023\\n•Conducted an extensive investigation of a Milling machine to enhance operational reliability.\\n•Conceived 97% recall rate for predicting machine failures using logistic regression and SMOTE.\\n•Managed in Azure Designer for comprehensive data analysis and predictive modeling.\\nData Driven Model for Anomaly Detection and Path Prediction |Python, Deep Learning July 2022 - April 2023\\n•Investigated and improved AIS for cargo vessel anomaly detection and path prediction.\\n•Formulated a statistical method for robust anomaly detection.\\n•Engineered a path prediction algorithm using a sequence-to-sequence model with an attention mechanism.\\nFederated Learning on Multiclass classification |Python, Deep Learning, Jupyter Notebook June 2022 - July 2022\\n•Utilized the CIFAR dataset for training, involving 20 client nodes with training activities based on the VGG-19 model.\\n•Central global model collected weight updates from six randomly selected client models, averaging the contributions, and\\ndisseminated the updated global model to all participating clients.\\n•Effected a commendable accuracy rate of 78% upon successful completion of the training process, demonstrating the effectiveness\\nof the federated learning approach in preserving data security and privacy while maintaining model performance.\\nEducation\\nDefence Institute of Advanced Technology Pune, IN\\nM.Tech in Modelling and Simulation, GPA: 7.95 May 2023\\nNational Institute of Technology Tiruchirappalli, IN\\nB.Tech in Chemical Engineering, GPA: 7.65 May 2021\\nRelevant Coursework\\n•Data Structures\\n•Advanced Numerical Techniques•Machine Learning\\n•Data Science•Deep Learning\\n•Computer Graphics\\nTechnical Skills\\nLanguages : Python, C/C++, SQL (Postgres), Matlab, Latex\\nFrameworks : Pytorch, Tensorflow, Flask, Pytorch Lightning\\nTools/Platform : Tableau, Power Bi, Azure, Git, Jupyter, Docker\\nLibraries : Scikit-Learn, Pandas, Numpy, Matplotlib, Seaborn\\nCertifications\\n•Certified Associate Data Analyst\\n•SQL [Advanced] - Hackerank\\n•Management Consulting Mentorship\\n•Generative AI at SAP•ML for Business professionals using No-Code AI tools\\n•Python [Basic] - Hackerank\\n•Software Engineer Intern -Hackerank\\nPublications\\nSuspicious Event Detection of Cargo Vessels Based on AIS Data at ICDMAI,2023', metadata={'source': 'data/Shyam_Sundar_Single_Page_Resume.pdf', 'page': 0})]"
      ]
     },
     "execution_count": 25,
     "metadata": {},
     "output_type": "execute_result"
    },
    {
     "ename": "",
     "evalue": "",
     "output_type": "error",
     "traceback": [
      "\u001b[1;31mnotebook controller is DISPOSED. \n",
      "\u001b[1;31mView Jupyter <a href='command:jupyter.viewOutput'>log</a> for further details."
     ]
    },
    {
     "ename": "",
     "evalue": "",
     "output_type": "error",
     "traceback": [
      "\u001b[1;31mnotebook controller is DISPOSED. \n",
      "\u001b[1;31mView Jupyter <a href='command:jupyter.viewOutput'>log</a> for further details."
     ]
    }
   ],
   "source": [
    "docs"
   ]
  },
  {
   "cell_type": "code",
   "execution_count": null,
   "metadata": {},
   "outputs": [
    {
     "ename": "",
     "evalue": "",
     "output_type": "error",
     "traceback": [
      "\u001b[1;31mnotebook controller is DISPOSED. \n",
      "\u001b[1;31mView Jupyter <a href='command:jupyter.viewOutput'>log</a> for further details."
     ]
    },
    {
     "ename": "",
     "evalue": "",
     "output_type": "error",
     "traceback": [
      "\u001b[1;31mnotebook controller is DISPOSED. \n",
      "\u001b[1;31mView Jupyter <a href='command:jupyter.viewOutput'>log</a> for further details."
     ]
    }
   ],
   "source": [
    "from langchain_openai import ChatOpenAI\n",
    "from langchain_core.output_parsers import StrOutputParser\n",
    "llm = ChatOpenAI(temperature=0,model_name=\"gpt-3.5-turbo\")\n",
    "llm_chain= ( prompt\n",
    "    | llm\n",
    "    | StrOutputParser()\n",
    ")"
   ]
  },
  {
   "cell_type": "code",
   "execution_count": null,
   "metadata": {},
   "outputs": [
    {
     "data": {
      "text/plain": [
       "ChatPromptTemplate(input_variables=['context', 'question'], metadata={'lc_hub_owner': 'rlm', 'lc_hub_repo': 'rag-prompt', 'lc_hub_commit_hash': '50442af133e61576e74536c6556cefe1fac147cad032f4377b60c436e6cdcb6e'}, messages=[HumanMessagePromptTemplate(prompt=PromptTemplate(input_variables=['context', 'question'], template=\"You are an assistant for question-answering tasks. Use the following pieces of retrieved context to answer the question. If you don't know the answer, just say that you don't know. Use three sentences maximum and keep the answer concise.\\nQuestion: {question} \\nContext: {context} \\nAnswer:\"))])\n",
       "| ChatOpenAI(client=<openai.resources.chat.completions.Completions object at 0x0000015BAA6E7830>, async_client=<openai.resources.chat.completions.AsyncCompletions object at 0x0000015BE99EC4D0>, temperature=0.0, openai_api_key=SecretStr('**********'), openai_proxy='')\n",
       "| StrOutputParser()"
      ]
     },
     "execution_count": 27,
     "metadata": {},
     "output_type": "execute_result"
    },
    {
     "ename": "",
     "evalue": "",
     "output_type": "error",
     "traceback": [
      "\u001b[1;31mnotebook controller is DISPOSED. \n",
      "\u001b[1;31mView Jupyter <a href='command:jupyter.viewOutput'>log</a> for further details."
     ]
    },
    {
     "ename": "",
     "evalue": "",
     "output_type": "error",
     "traceback": [
      "\u001b[1;31mnotebook controller is DISPOSED. \n",
      "\u001b[1;31mView Jupyter <a href='command:jupyter.viewOutput'>log</a> for further details."
     ]
    }
   ],
   "source": [
    "llm_chain"
   ]
  },
  {
   "cell_type": "code",
   "execution_count": null,
   "metadata": {},
   "outputs": [
    {
     "data": {
      "text/plain": [
       "\"The community can be engaged through projects like the LLM-Powered Coupon Recommender and PeopleCare Insurance Prediction, which involve real-world scenarios and customer targeting. Additionally, the hate speech prediction and machine failure prediction projects contribute to content filtration and operational reliability, engaging with societal issues. Shyam Sundar's technical skills and certifications demonstrate a strong foundation for engaging with the community through data-driven solutions.\""
      ]
     },
     "execution_count": 28,
     "metadata": {},
     "output_type": "execute_result"
    },
    {
     "ename": "",
     "evalue": "",
     "output_type": "error",
     "traceback": [
      "\u001b[1;31mnotebook controller is DISPOSED. \n",
      "\u001b[1;31mView Jupyter <a href='command:jupyter.viewOutput'>log</a> for further details."
     ]
    },
    {
     "ename": "",
     "evalue": "",
     "output_type": "error",
     "traceback": [
      "\u001b[1;31mnotebook controller is DISPOSED. \n",
      "\u001b[1;31mView Jupyter <a href='command:jupyter.viewOutput'>log</a> for further details."
     ]
    }
   ],
   "source": [
    "llm_chain.invoke({\"context\":docs[0].page_content, \"question\":\"How will the community be engaged?\"})"
   ]
  },
  {
   "cell_type": "code",
   "execution_count": null,
   "metadata": {},
   "outputs": [
    {
     "ename": "",
     "evalue": "",
     "output_type": "error",
     "traceback": [
      "\u001b[1;31mnotebook controller is DISPOSED. \n",
      "\u001b[1;31mView Jupyter <a href='command:jupyter.viewOutput'>log</a> for further details."
     ]
    },
    {
     "ename": "",
     "evalue": "",
     "output_type": "error",
     "traceback": [
      "\u001b[1;31mnotebook controller is DISPOSED. \n",
      "\u001b[1;31mView Jupyter <a href='command:jupyter.viewOutput'>log</a> for further details."
     ]
    }
   ],
   "source": []
  },
  {
   "cell_type": "code",
   "execution_count": null,
   "metadata": {},
   "outputs": [
    {
     "name": "stderr",
     "output_type": "stream",
     "text": [
      "<>:2: SyntaxWarning: invalid escape sequence '\\w'\n",
      "<>:2: SyntaxWarning: invalid escape sequence '\\w'\n",
      "C:\\Users\\shyams\\AppData\\Local\\Temp\\ipykernel_18324\\850560858.py:2: SyntaxWarning: invalid escape sequence '\\w'\n",
      "  df=pd.read_csv(\"testing\\where are you_feedback_.csv\")\n"
     ]
    },
    {
     "ename": "",
     "evalue": "",
     "output_type": "error",
     "traceback": [
      "\u001b[1;31mnotebook controller is DISPOSED. \n",
      "\u001b[1;31mView Jupyter <a href='command:jupyter.viewOutput'>log</a> for further details."
     ]
    },
    {
     "ename": "",
     "evalue": "",
     "output_type": "error",
     "traceback": [
      "\u001b[1;31mnotebook controller is DISPOSED. \n",
      "\u001b[1;31mView Jupyter <a href='command:jupyter.viewOutput'>log</a> for further details."
     ]
    }
   ],
   "source": [
    "import pandas as pd\n",
    "df=pd.read_csv(\"testing\\where are you_feedback_.csv\")"
   ]
  },
  {
   "cell_type": "code",
   "execution_count": null,
   "metadata": {},
   "outputs": [
    {
     "data": {
      "text/html": [
       "<div>\n",
       "<style scoped>\n",
       "    .dataframe tbody tr th:only-of-type {\n",
       "        vertical-align: middle;\n",
       "    }\n",
       "\n",
       "    .dataframe tbody tr th {\n",
       "        vertical-align: top;\n",
       "    }\n",
       "\n",
       "    .dataframe thead th {\n",
       "        text-align: right;\n",
       "    }\n",
       "</style>\n",
       "<table border=\"1\" class=\"dataframe\">\n",
       "  <thead>\n",
       "    <tr style=\"text-align: right;\">\n",
       "      <th></th>\n",
       "      <th>question</th>\n",
       "      <th>context</th>\n",
       "      <th>score</th>\n",
       "      <th>reranker</th>\n",
       "    </tr>\n",
       "  </thead>\n",
       "  <tbody>\n",
       "    <tr>\n",
       "      <th>0</th>\n",
       "      <td>where are you</td>\n",
       "      <td>Shyam Sundar\\n5,kavimani steet, Pankajam colon...</td>\n",
       "      <td>0</td>\n",
       "      <td>-8.365195</td>\n",
       "    </tr>\n",
       "    <tr>\n",
       "      <th>1</th>\n",
       "      <td>where are you</td>\n",
       "      <td>Education\\nDefence Institute of Advanced Techn...</td>\n",
       "      <td>0</td>\n",
       "      <td>-10.745239</td>\n",
       "    </tr>\n",
       "    <tr>\n",
       "      <th>2</th>\n",
       "      <td>where are you</td>\n",
       "      <td>Tools/Platform : Tableau, Power Bi, Azure, Git...</td>\n",
       "      <td>0</td>\n",
       "      <td>-11.017602</td>\n",
       "    </tr>\n",
       "    <tr>\n",
       "      <th>3</th>\n",
       "      <td>where are you</td>\n",
       "      <td>•Management Consulting Mentorship\\n•Generative...</td>\n",
       "      <td>0</td>\n",
       "      <td>-11.086673</td>\n",
       "    </tr>\n",
       "    <tr>\n",
       "      <th>4</th>\n",
       "      <td>where are you</td>\n",
       "      <td>Relevant Coursework\\n•Data Structures\\n•Advanc...</td>\n",
       "      <td>0</td>\n",
       "      <td>-11.167512</td>\n",
       "    </tr>\n",
       "    <tr>\n",
       "      <th>5</th>\n",
       "      <td>where are you</td>\n",
       "      <td>Certificate of Completion of\\nGenerative AI En...</td>\n",
       "      <td>0</td>\n",
       "      <td>-11.250849</td>\n",
       "    </tr>\n",
       "    <tr>\n",
       "      <th>6</th>\n",
       "      <td>where are you</td>\n",
       "      <td>•Effected a commendable accuracy rate of 78% u...</td>\n",
       "      <td>0</td>\n",
       "      <td>-11.296392</td>\n",
       "    </tr>\n",
       "  </tbody>\n",
       "</table>\n",
       "</div>"
      ],
      "text/plain": [
       "        question                                            context  score  \\\n",
       "0  where are you  Shyam Sundar\\n5,kavimani steet, Pankajam colon...      0   \n",
       "1  where are you  Education\\nDefence Institute of Advanced Techn...      0   \n",
       "2  where are you  Tools/Platform : Tableau, Power Bi, Azure, Git...      0   \n",
       "3  where are you  •Management Consulting Mentorship\\n•Generative...      0   \n",
       "4  where are you  Relevant Coursework\\n•Data Structures\\n•Advanc...      0   \n",
       "5  where are you  Certificate of Completion of\\nGenerative AI En...      0   \n",
       "6  where are you  •Effected a commendable accuracy rate of 78% u...      0   \n",
       "\n",
       "    reranker  \n",
       "0  -8.365195  \n",
       "1 -10.745239  \n",
       "2 -11.017602  \n",
       "3 -11.086673  \n",
       "4 -11.167512  \n",
       "5 -11.250849  \n",
       "6 -11.296392  "
      ]
     },
     "execution_count": 30,
     "metadata": {},
     "output_type": "execute_result"
    },
    {
     "ename": "",
     "evalue": "",
     "output_type": "error",
     "traceback": [
      "\u001b[1;31mnotebook controller is DISPOSED. \n",
      "\u001b[1;31mView Jupyter <a href='command:jupyter.viewOutput'>log</a> for further details."
     ]
    },
    {
     "ename": "",
     "evalue": "",
     "output_type": "error",
     "traceback": [
      "\u001b[1;31mnotebook controller is DISPOSED. \n",
      "\u001b[1;31mView Jupyter <a href='command:jupyter.viewOutput'>log</a> for further details."
     ]
    }
   ],
   "source": [
    "df"
   ]
  },
  {
   "cell_type": "code",
   "execution_count": null,
   "metadata": {},
   "outputs": [
    {
     "name": "stderr",
     "output_type": "stream",
     "text": [
      "c:\\Users\\shyams\\Downloads\\Rag with Human feedback\\.venv\\Lib\\site-packages\\huggingface_hub\\file_download.py:1132: FutureWarning: `resume_download` is deprecated and will be removed in version 1.0.0. Downloads always resume when possible. If you want to force a new download, use `force_download=True`.\n",
      "  warnings.warn(\n"
     ]
    },
    {
     "ename": "",
     "evalue": "",
     "output_type": "error",
     "traceback": [
      "\u001b[1;31mnotebook controller is DISPOSED. \n",
      "\u001b[1;31mView Jupyter <a href='command:jupyter.viewOutput'>log</a> for further details."
     ]
    },
    {
     "ename": "",
     "evalue": "",
     "output_type": "error",
     "traceback": [
      "\u001b[1;31mnotebook controller is DISPOSED. \n",
      "\u001b[1;31mView Jupyter <a href='command:jupyter.viewOutput'>log</a> for further details."
     ]
    }
   ],
   "source": [
    "\n",
    "from sentence_transformers import CrossEncoder\n",
    "model = CrossEncoder(\"cross-encoder/ms-marco-MiniLM-L-6-v2\")"
   ]
  },
  {
   "cell_type": "code",
   "execution_count": null,
   "metadata": {},
   "outputs": [
    {
     "ename": "",
     "evalue": "",
     "output_type": "error",
     "traceback": [
      "\u001b[1;31mnotebook controller is DISPOSED. \n",
      "\u001b[1;31mView Jupyter <a href='command:jupyter.viewOutput'>log</a> for further details."
     ]
    },
    {
     "ename": "",
     "evalue": "",
     "output_type": "error",
     "traceback": [
      "\u001b[1;31mnotebook controller is DISPOSED. \n",
      "\u001b[1;31mView Jupyter <a href='command:jupyter.viewOutput'>log</a> for further details."
     ]
    }
   ],
   "source": [
    "model.save(\"models/cross-encoder-original\")"
   ]
  },
  {
   "cell_type": "code",
   "execution_count": null,
   "metadata": {},
   "outputs": [
    {
     "ename": "",
     "evalue": "",
     "output_type": "error",
     "traceback": [
      "\u001b[1;31mnotebook controller is DISPOSED. \n",
      "\u001b[1;31mView Jupyter <a href='command:jupyter.viewOutput'>log</a> for further details."
     ]
    },
    {
     "ename": "",
     "evalue": "",
     "output_type": "error",
     "traceback": [
      "\u001b[1;31mnotebook controller is DISPOSED. \n",
      "\u001b[1;31mView Jupyter <a href='command:jupyter.viewOutput'>log</a> for further details."
     ]
    }
   ],
   "source": []
  }
 ],
 "metadata": {
  "kernelspec": {
   "display_name": ".venv",
   "language": "python",
   "name": "python3"
  },
  "language_info": {
   "codemirror_mode": {
    "name": "ipython",
    "version": 3
   },
   "file_extension": ".py",
   "mimetype": "text/x-python",
   "name": "python",
   "nbconvert_exporter": "python",
   "pygments_lexer": "ipython3",
   "version": "3.12.2"
  }
 },
 "nbformat": 4,
 "nbformat_minor": 2
}
